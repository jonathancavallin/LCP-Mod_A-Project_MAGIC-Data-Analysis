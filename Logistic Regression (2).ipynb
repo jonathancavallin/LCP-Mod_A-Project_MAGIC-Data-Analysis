{
 "cells": [
  {
   "cell_type": "markdown",
   "id": "f3659010-f245-44b2-ac6e-278523821248",
   "metadata": {},
   "source": [
    "## Part 5.5: Logistic regression\n"
   ]
  },
  {
   "cell_type": "markdown",
   "id": "c3ebcd04-3f17-4518-94ef-a6f448972687",
   "metadata": {},
   "source": [
    "Logistic regression allows to pose a classification problem as a regression problem, where the predicted label is the probability for a sample to belong to a certain class. Thus, in our case the output of the algorithm is the *gammaness*. We can then choose a threshold for the *gammaness* to assign gamma (+1) as the predicted label. The learning problem is to find the sigmoid function\n",
    "$\\sigma_{\\mathbf{w}}(\\mathbf{x}) =\\frac{1}{1 + e^{-(\\mathbf{w}^T \\mathbf{x})}}$\n",
    "that minimizes the loss:\n",
    "\n",
    "$$\n",
    "\\mathcal{L}(\\mathbf{y}, \\sigma_{\\mathbf{w}}(\\mathbf{x})) + \\lambda||\\mathbf{w}||^2\n",
    "$$\n",
    "where: \n",
    "$$\n",
    "\\mathcal{L}(\\mathbf{y}, \\sigma_{\\mathbf{w}}(\\mathbf{x})) = -\\sum_{i=1}^{n} \\left[ y_i \\log(\\sigma_{\\mathbf{w}}(\\mathbf{x}_i)) + (1 - y_i) \\log(1 - \\sigma_{\\mathbf{w}}(\\mathbf{x}_i)) \\right]$$\n",
    "and we use the Tikhonov regularization technique to prevent overfitting.\n",
    "\n",
    "To find the best hyper-parameter $C=\\frac{1}{\\lambda}$ for model we choose the usual 0.5 threshold for the *gammaness* and perform a K-fold cross validation, where again we keep as best model the one that maximizes the partial AUC. "
   ]
  },
  {
   "cell_type": "code",
   "execution_count": 32,
   "id": "66730763-319a-4432-8b82-19919d9386dc",
   "metadata": {},
   "outputs": [
    {
     "name": "stdout",
     "output_type": "stream",
     "text": [
      "Training model with regularization constant c = 0.001\n",
      "Partial AUC: 0.04213380095097859\n",
      "AUC: 0.6989638470891784 \n",
      "\n",
      "Training model with regularization constant c = 0.005\n",
      "Partial AUC: 0.04506008297216506\n",
      "AUC: 0.7107403119994711 \n",
      "\n",
      "Training model with regularization constant c = 0.01\n",
      "Partial AUC: 0.044318828699325005\n",
      "AUC: 0.7128916592572438 \n",
      "\n",
      "Training model with regularization constant c = 0.05\n",
      "Partial AUC: 0.04180168118425109\n",
      "AUC: 0.7063320607915424 \n",
      "\n",
      "Training model with regularization constant c = 0.1\n",
      "Partial AUC: 0.0434447268547667\n",
      "AUC: 0.7144128362036184 \n",
      "\n",
      "Training model with regularization constant c = 0.5\n",
      "Partial AUC: 0.04474267752420155\n",
      "AUC: 0.7172025802768702 \n",
      "\n",
      "Training model with regularization constant c = 1\n",
      "Partial AUC: 0.04503261909929472\n",
      "AUC: 0.7108615765721334 \n",
      "\n",
      "Training model with regularization constant c = 5\n",
      "Partial AUC: 0.04363980604362329\n",
      "AUC: 0.7130600801481082 \n",
      "\n",
      "Training model with regularization constant c = 10\n",
      "Partial AUC: 0.04437917601802555\n",
      "AUC: 0.7122868288722495 \n",
      "\n",
      "Training model with regularization constant c = 50\n",
      "Partial AUC: 0.04373180624013581\n",
      "AUC: 0.7156736263570023 \n",
      "\n",
      "Training model with regularization constant c = 100\n",
      "Partial AUC: 0.044374227011769025\n",
      "AUC: 0.7187938149003055 \n",
      "\n",
      "Training model with regularization constant c = 500\n",
      "Partial AUC: 0.04651972490800703\n",
      "AUC: 0.7207647831261607 \n",
      "\n",
      "Training model with regularization constant c = 1000\n",
      "Partial AUC: 0.044440785196484305\n",
      "AUC: 0.7115180338789999 \n",
      "\n"
     ]
    }
   ],
   "source": [
    "from sklearn.linear_model import LogisticRegression\n",
    "from time import time\n",
    "auc_scorer = make_scorer(full_auc_scorer, greater_is_better=True, response_method='predict') \n",
    "\n",
    "# hyper-parameters \n",
    "param_grid = {'C': [0.001,0.005,0.01,0.05,0.1,0.5,1,5,10,50,100,500,1000]} # we use Tikhonov regularization: in the loss we add a term proportional to the norm squared of w (C=1/lambda)\n",
    "\n",
    "# grid search with K-fold validation\n",
    "K=5\n",
    "\n",
    "fprs = []\n",
    "tprs = []\n",
    "aucs = []\n",
    "partial_aucs = []\n",
    "C = []\n",
    "for c in param_grid['C']:\n",
    "        auc_value=0\n",
    "        partial_auc=0\n",
    "        print(f\"Training model with regularization constant c = {c}\")\n",
    "        C.append(c)\n",
    "        for i in range(K):\n",
    "            train_K, valid_K = split_train_test_set(train_set,K)\n",
    "            X_train_K, Y_train_K = split_X_Y(train_K)\n",
    "            X_valid_K, Y_valid_K = split_X_Y(valid_K)\n",
    "            model= LogisticRegression(penalty='l2',C=c,solver='lbfgs',max_iter=300) # 'lbfgs' approximates up to the the second derivative of the loss function to optimize the coefficients, best for large datasets \n",
    "            model.fit(X_train_K,Y_train_K)\n",
    "                    \n",
    "            y_pred_proba = model.predict_proba(X_valid_K)[:, 1]  \n",
    "            fpr, tpr, _ = roc_curve(Y_valid_K, y_pred_proba)\n",
    "            fprs.append(fpr)\n",
    "            tprs.append(tpr)\n",
    "            auc_value_k = auc(fpr, tpr)\n",
    "            # keep fpr less than 0.2 (if not able to find it, partial auc is set to zero)\n",
    "            partial_fpr = fpr[fpr <= 0.2]\n",
    "            if (len(partial_fpr) < 2 ):\n",
    "                partial_auc=0\n",
    "            else:\n",
    "                partial_tpr = tpr[:len(partial_fpr)]\n",
    "                partial_auc_k = auc(partial_fpr, partial_tpr)\n",
    "            partial_auc += partial_auc_k/K\n",
    "            auc_value += auc_value_k/K\n",
    "        print('Partial AUC:', partial_auc)\n",
    "        partial_aucs.append(partial_auc)\n",
    "        print('AUC:', auc_value,'\\n')\n",
    "        aucs.append(auc_value)                "
   ]
  },
  {
   "cell_type": "code",
   "execution_count": 34,
   "id": "8347c116-d17b-4ae7-a40f-5a291688e6e4",
   "metadata": {},
   "outputs": [
    {
     "name": "stdout",
     "output_type": "stream",
     "text": [
      "Best model with regularization constant c= 500\n",
      "Best partial AUC (validation set): 0.04651972490800703\n",
      "AUC of best model (validation set): 0.7207647831261607 \n",
      "\n",
      "Best partial AUC (test set): 0.041838754164667744\n",
      "AUC of best model (test set): 0.7171188134168732\n",
      "Q value of best model: 1.121412294145805\n"
     ]
    }
   ],
   "source": [
    "best_partial_auc = np.max(np.array(partial_aucs))\n",
    "best_auc= np.max(np.array(aucs))\n",
    "best_index = np.where(partial_aucs==best_partial_auc)[0]\n",
    "print('Best model with regularization constant c=',C[best_index[0]])\n",
    "print('Best partial AUC (validation set):', best_partial_auc)\n",
    "print('AUC of best model (validation set):', best_auc,'\\n')\n",
    "\n",
    "best_model = LogisticRegression(penalty='l2', C= C[best_index[0]],solver='lbfgs',max_iter=300)\n",
    "best_model.fit(X_train,Y_train) # retrain the best\n",
    "y_pred_proba_test = model.predict_proba(X_test)[:, 1]  \n",
    "fpr_test, tpr_test, _ = roc_curve(Y_test, y_pred_proba_test)\n",
    "auc_test= auc(fpr_test,tpr_test)\n",
    "\n",
    "partial_fpr_test = fpr_test[fpr_test <= 0.2]\n",
    "if (len(partial_fpr_test)<2):\n",
    "    partial_auc_test=0\n",
    "else:\n",
    "    partial_tpr_test = tpr_test[:len(partial_fpr_test)]\n",
    "    partial_auc_test = auc(partial_fpr_test, partial_tpr_test)\n",
    "print('Best partial AUC (test set):', partial_auc_test)\n",
    "print('AUC of best model (test set):', auc_test)\n",
    "Q_log = get_best_Q(fpr_test,tpr_test)\n",
    "print('Q value of best model:',Q_log)"
   ]
  },
  {
   "cell_type": "code",
   "execution_count": 7,
   "id": "4b10dd6f-b31a-46a5-92f4-a32fef4f6416",
   "metadata": {},
   "outputs": [
    {
     "ename": "NameError",
     "evalue": "name 'plt' is not defined",
     "output_type": "error",
     "traceback": [
      "\u001b[0;31m---------------------------------------------------------------------------\u001b[0m",
      "\u001b[0;31mNameError\u001b[0m                                 Traceback (most recent call last)",
      "Cell \u001b[0;32mIn[7], line 1\u001b[0m\n\u001b[0;32m----> 1\u001b[0m \u001b[43mplt\u001b[49m\u001b[38;5;241m.\u001b[39mfigure(figsize\u001b[38;5;241m=\u001b[39m(\u001b[38;5;241m10\u001b[39m, \u001b[38;5;241m7\u001b[39m))\n\u001b[1;32m      2\u001b[0m plt\u001b[38;5;241m.\u001b[39mplot(fpr_test, tpr_test, color\u001b[38;5;241m=\u001b[39m\u001b[38;5;124m'\u001b[39m\u001b[38;5;124mblue\u001b[39m\u001b[38;5;124m'\u001b[39m, lw\u001b[38;5;241m=\u001b[39m\u001b[38;5;241m1.5\u001b[39m, label\u001b[38;5;241m=\u001b[39m\u001b[38;5;124mf\u001b[39m\u001b[38;5;124m'\u001b[39m\u001b[38;5;124mROC curve (Partial AUC = \u001b[39m\u001b[38;5;132;01m{\u001b[39;00mpartial_auc_test\u001b[38;5;132;01m:\u001b[39;00m\u001b[38;5;124m.3f\u001b[39m\u001b[38;5;132;01m}\u001b[39;00m\u001b[38;5;124m, AUC = \u001b[39m\u001b[38;5;132;01m{\u001b[39;00mauc_test\u001b[38;5;132;01m:\u001b[39;00m\u001b[38;5;124m.3f\u001b[39m\u001b[38;5;132;01m}\u001b[39;00m\u001b[38;5;124m)\u001b[39m\u001b[38;5;124m'\u001b[39m)\n\u001b[1;32m      3\u001b[0m plt\u001b[38;5;241m.\u001b[39mplot([\u001b[38;5;241m0\u001b[39m, \u001b[38;5;241m1\u001b[39m], [\u001b[38;5;241m0\u001b[39m, \u001b[38;5;241m1\u001b[39m], color\u001b[38;5;241m=\u001b[39m\u001b[38;5;124m'\u001b[39m\u001b[38;5;124mred\u001b[39m\u001b[38;5;124m'\u001b[39m, linestyle\u001b[38;5;241m=\u001b[39m\u001b[38;5;124m'\u001b[39m\u001b[38;5;124m--\u001b[39m\u001b[38;5;124m'\u001b[39m) \n",
      "\u001b[0;31mNameError\u001b[0m: name 'plt' is not defined"
     ]
    }
   ],
   "source": [
    "plt.figure(figsize=(10, 7))\n",
    "plt.plot(fpr_test, tpr_test, color='blue', lw=1.5, label=f'ROC curve (Partial AUC = {partial_auc_test:.3f}, AUC = {auc_test:.3f})')\n",
    "plt.plot([0, 1], [0, 1], color='red', linestyle='--') \n",
    "plt.xlim([0.0, 1.0])\n",
    "plt.ylim([0.0, 1.02])\n",
    "plt.xlabel('False Positive Rate',fontsize=13.8)\n",
    "plt.ylabel('True Positive Rate',fontsize=13.8)\n",
    "plt.title('Logistic Regression ROC Curve',fontsize=14.3)\n",
    "plt.grid(alpha=0.4)\n",
    "plt.legend(loc='best')\n",
    "plt.show()"
   ]
  },
  {
   "cell_type": "code",
   "execution_count": null,
   "id": "603ed412-8446-4a49-bd16-a96b158754f5",
   "metadata": {},
   "outputs": [],
   "source": []
  }
 ],
 "metadata": {
  "kernelspec": {
   "display_name": "anaconda-ai-2024.04-py310",
   "language": "python",
   "name": "conda-env-anaconda-ai-2024.04-py310-py"
  },
  "language_info": {
   "codemirror_mode": {
    "name": "ipython",
    "version": 3
   },
   "file_extension": ".py",
   "mimetype": "text/x-python",
   "name": "python",
   "nbconvert_exporter": "python",
   "pygments_lexer": "ipython3",
   "version": "3.10.13"
  }
 },
 "nbformat": 4,
 "nbformat_minor": 5
}
