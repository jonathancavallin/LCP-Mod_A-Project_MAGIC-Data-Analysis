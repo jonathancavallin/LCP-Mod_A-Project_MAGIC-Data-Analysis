{
 "cells": [
  {
   "cell_type": "markdown",
   "id": "0e5c3c0c-4026-41b3-b99d-1e4e688b4041",
   "metadata": {},
   "source": [
    "## Part 5.4: Neural Network\n",
    "Now we are going to train a Feed-Forward Fully-Connected Neural Network to classify the samples. Different models are going to be trained in a manual grid search in order to find the combination of hyper-parameters that maximize the partial AUC."
   ]
  },
  {
   "cell_type": "code",
   "execution_count": 25,
   "id": "cbfe8d3c-7ed1-4209-9855-bd2e571b41ad",
   "metadata": {},
   "outputs": [],
   "source": [
    "# this function determines the partial area under the curve, up to FPR<=0.2\n",
    "def partial_auc_at_fpr(y_true, y_pred_proba):\n",
    "    fpr, tpr, thresholds = roc_curve(y_true, y_pred_proba)\n",
    "    valid_indices = fpr <= 0.2  # indices where FPR <= 0.2\n",
    "    partial_fpr = fpr[valid_indices]\n",
    "    partial_tpr = tpr[valid_indices]\n",
    "    # check if there are at least 2 points for partial AUC calculation\n",
    "    if len(partial_fpr) < 2:\n",
    "        return 0  # return 0 if not enough points to calculate AUC\n",
    "\n",
    "    partial_auc = auc(partial_fpr, partial_tpr)\n",
    "    return partial_auc\n",
    "\n",
    "def full_auc_scorer(y_true, y_pred_proba):\n",
    "    fpr, tpr, _ = roc_curve(y_true, y_pred_proba)\n",
    "    return auc(fpr, tpr)\n",
    "\n",
    "# create scoring function (partial AUC) to implement a grid-search\n",
    "partial_auc_scorer = make_scorer(partial_auc_at_fpr, greater_is_better=True)\n"
   ]
  },
  {
   "cell_type": "code",
   "execution_count": 26,
   "id": "7837c552-f872-4058-80cf-22c43c7686cc",
   "metadata": {},
   "outputs": [
    {
     "name": "stdout",
     "output_type": "stream",
     "text": [
      "Training MLP of size (18,) and lr 0.1...\n",
      "  Fold n. 0\n",
      "AUC (Test set): 0\n",
      "  Fold n. 1\n",
      "AUC (Test set): 0.1853265454739891\n",
      "  Fold n. 2\n",
      "AUC (Test set): 0.37060600085734346\n",
      "  Fold n. 3\n",
      "AUC (Test set): 0.5553059139381503\n",
      "  Fold n. 4\n",
      "AUC (Test set): 0.7400986096878595\n",
      "Time needed for training: 2.20 seconds\n",
      "partial AUC: 0.13733572773785585  total AUC: 0.9265149717626548 \n",
      "\n",
      "Training MLP of size (18,) and lr 0.01...\n",
      "  Fold n. 0\n",
      "AUC (Test set): 0\n",
      "  Fold n. 1\n",
      "AUC (Test set): 0.1836110079011096\n",
      "  Fold n. 2\n",
      "AUC (Test set): 0.367922655589457\n",
      "  Fold n. 3\n",
      "AUC (Test set): 0.552028990482637\n",
      "  Fold n. 4\n",
      "AUC (Test set): 0.7364624647925622\n",
      "Time needed for training: 2.52 seconds\n",
      "partial AUC: 0.13400806850727146  total AUC: 0.9218100337134669 \n",
      "\n",
      "Training MLP of size (18,) and lr 0.001...\n",
      "  Fold n. 0\n",
      "AUC (Test set): 0\n",
      "  Fold n. 1\n",
      "AUC (Test set): 0.18168274464137554\n",
      "  Fold n. 2\n",
      "AUC (Test set): 0.3652495182379921\n",
      "  Fold n. 3\n",
      "AUC (Test set): 0.5475418213171068\n",
      "  Fold n. 4\n",
      "AUC (Test set): 0.729869244489624\n",
      "Time needed for training: 4.34 seconds\n",
      "partial AUC: 0.12701588880419423  total AUC: 0.9126932706437642 \n",
      "\n",
      "Training MLP of size (36,) and lr 0.1...\n",
      "  Fold n. 0\n",
      "AUC (Test set): 0\n",
      "  Fold n. 1\n",
      "AUC (Test set): 0.1850612004084382\n",
      "  Fold n. 2\n",
      "AUC (Test set): 0.3711317085530491\n",
      "  Fold n. 3\n",
      "AUC (Test set): 0.5572260351693101\n",
      "  Fold n. 4\n",
      "AUC (Test set): 0.7423905907315157\n",
      "Time needed for training: 3.73 seconds\n",
      "partial AUC: 0.13887129002239967  total AUC: 0.9283337429664873 \n",
      "\n",
      "Training MLP of size (36,) and lr 0.01...\n",
      "  Fold n. 0\n",
      "AUC (Test set): 0\n",
      "  Fold n. 1\n",
      "AUC (Test set): 0.1850013504222766\n",
      "  Fold n. 2\n",
      "AUC (Test set): 0.37021974059132395\n",
      "  Fold n. 3\n",
      "AUC (Test set): 0.5553878203151512\n",
      "  Fold n. 4\n",
      "AUC (Test set): 0.7406593159541531\n",
      "Time needed for training: 7.11 seconds\n",
      "partial AUC: 0.13689350621574006  total AUC: 0.9254880432183739 \n",
      "\n",
      "Training MLP of size (36,) and lr 0.001...\n",
      "  Fold n. 0\n",
      "AUC (Test set): 0\n",
      "  Fold n. 1\n",
      "AUC (Test set): 0.18348851290405194\n",
      "  Fold n. 2\n",
      "AUC (Test set): 0.3666334808113957\n",
      "  Fold n. 3\n",
      "AUC (Test set): 0.5496330466711408\n",
      "  Fold n. 4\n",
      "AUC (Test set): 0.7329156999273598\n",
      "Time needed for training: 6.98 seconds\n",
      "partial AUC: 0.1306020878227152  total AUC: 0.9161630508059546 \n",
      "\n",
      "Training MLP of size (54,) and lr 0.1...\n",
      "  Fold n. 0\n",
      "AUC (Test set): 0\n",
      "  Fold n. 1\n",
      "AUC (Test set): 0.18555610207065762\n",
      "  Fold n. 2\n",
      "AUC (Test set): 0.3717594346515622\n",
      "  Fold n. 3\n",
      "AUC (Test set): 0.5579379158168931\n",
      "  Fold n. 4\n",
      "AUC (Test set): 0.7431556983718677\n",
      "Time needed for training: 4.64 seconds\n",
      "partial AUC: 0.1397121671376182  total AUC: 0.9296046893223675 \n",
      "\n",
      "Training MLP of size (54,) and lr 0.01...\n",
      "  Fold n. 0\n",
      "AUC (Test set): 0\n",
      "  Fold n. 1\n",
      "AUC (Test set): 0.1848602016731869\n",
      "  Fold n. 2\n",
      "AUC (Test set): 0.37014792060793\n",
      "  Fold n. 3\n",
      "AUC (Test set): 0.5551439240263668\n",
      "  Fold n. 4\n",
      "AUC (Test set): 0.74005674507825\n",
      "Time needed for training: 8.05 seconds\n",
      "partial AUC: 0.1359674416075281  total AUC: 0.9251073730018231 \n",
      "\n",
      "Training MLP of size (54,) and lr 0.001...\n",
      "  Fold n. 0\n",
      "AUC (Test set): 0\n",
      "  Fold n. 1\n",
      "AUC (Test set): 0.1837383638107489\n",
      "  Fold n. 2\n",
      "AUC (Test set): 0.3669454298763232\n",
      "  Fold n. 3\n",
      "AUC (Test set): 0.5501467236082068\n",
      "  Fold n. 4\n",
      "AUC (Test set): 0.7335597100830213\n",
      "Time needed for training: 6.54 seconds\n",
      "partial AUC: 0.13003998404405445  total AUC: 0.9165922086255072 \n",
      "\n",
      "Training MLP of size (36, 18) and lr 0.1...\n",
      "  Fold n. 0\n",
      "AUC (Test set): 0\n",
      "  Fold n. 1\n",
      "AUC (Test set): 0.18579471211700946\n",
      "  Fold n. 2\n",
      "AUC (Test set): 0.3705561157419742\n",
      "  Fold n. 3\n",
      "AUC (Test set): 0.5558981553748173\n",
      "  Fold n. 4\n",
      "AUC (Test set): 0.7426467608245687\n",
      "Time needed for training: 6.93 seconds\n",
      "partial AUC: 0.13878798613303162  total AUC: 0.9292767600073277 \n",
      "\n",
      "Training MLP of size (36, 18) and lr 0.01...\n",
      "  Fold n. 0\n",
      "AUC (Test set): 0\n",
      "  Fold n. 1\n",
      "AUC (Test set): 0.18491434008706503\n",
      "  Fold n. 2\n",
      "AUC (Test set): 0.3711791632121275\n",
      "  Fold n. 3\n",
      "AUC (Test set): 0.5573485301663679\n",
      "  Fold n. 4\n",
      "AUC (Test set): 0.7428648942766705\n",
      "Time needed for training: 9.83 seconds\n",
      "partial AUC: 0.13868450945644972  total AUC: 0.928311625814241 \n",
      "\n",
      "Training MLP of size (36, 18) and lr 0.001...\n",
      "  Fold n. 0\n",
      "AUC (Test set): 0\n",
      "  Fold n. 1\n"
     ]
    },
    {
     "name": "stderr",
     "output_type": "stream",
     "text": [
      "/home/samu/miniconda3/envs/myenv/lib/python3.9/site-packages/sklearn/neural_network/_multilayer_perceptron.py:690: ConvergenceWarning: Stochastic Optimizer: Maximum iterations (600) reached and the optimization hasn't converged yet.\n",
      "  warnings.warn(\n"
     ]
    },
    {
     "name": "stdout",
     "output_type": "stream",
     "text": [
      "AUC (Test set): 0.18491610216787585\n",
      "  Fold n. 2\n"
     ]
    },
    {
     "name": "stderr",
     "output_type": "stream",
     "text": [
      "/home/samu/miniconda3/envs/myenv/lib/python3.9/site-packages/sklearn/neural_network/_multilayer_perceptron.py:690: ConvergenceWarning: Stochastic Optimizer: Maximum iterations (600) reached and the optimization hasn't converged yet.\n",
      "  warnings.warn(\n"
     ]
    },
    {
     "name": "stdout",
     "output_type": "stream",
     "text": [
      "AUC (Test set): 0.37011681076740743\n",
      "  Fold n. 3\n"
     ]
    },
    {
     "name": "stderr",
     "output_type": "stream",
     "text": [
      "/home/samu/miniconda3/envs/myenv/lib/python3.9/site-packages/sklearn/neural_network/_multilayer_perceptron.py:690: ConvergenceWarning: Stochastic Optimizer: Maximum iterations (600) reached and the optimization hasn't converged yet.\n",
      "  warnings.warn(\n"
     ]
    },
    {
     "name": "stdout",
     "output_type": "stream",
     "text": [
      "AUC (Test set): 0.5552302659860984\n",
      "  Fold n. 4\n",
      "AUC (Test set): 0.7401467934838252\n",
      "Time needed for training: 11.15 seconds\n",
      "partial AUC: 0.13621723175281772  total AUC: 0.9252024646042017 \n",
      "\n",
      "Training MLP of size (54, 18) and lr 0.1...\n",
      "  Fold n. 0\n",
      "AUC (Test set): 0\n",
      "  Fold n. 1\n",
      "AUC (Test set): 0.18458519554387992\n",
      "  Fold n. 2\n",
      "AUC (Test set): 0.36940189204946106\n",
      "  Fold n. 3\n",
      "AUC (Test set): 0.5540785031305797\n",
      "  Fold n. 4\n",
      "AUC (Test set): 0.7398683543350075\n",
      "Time needed for training: 8.30 seconds\n",
      "partial AUC: 0.13599873373227248  total AUC: 0.92549870684535 \n",
      "\n",
      "Training MLP of size (54, 18) and lr 0.01...\n",
      "  Fold n. 0\n",
      "AUC (Test set): 0\n",
      "  Fold n. 1\n",
      "AUC (Test set): 0.18577678750186463\n",
      "  Fold n. 2\n",
      "AUC (Test set): 0.3720286684471784\n",
      "  Fold n. 3\n",
      "AUC (Test set): 0.5578583183733685\n",
      "  Fold n. 4\n",
      "AUC (Test set): 0.743806392282329\n",
      "Time needed for training: 11.36 seconds\n",
      "partial AUC: 0.14036000526193787  total AUC: 0.9303242866686738 \n",
      "\n",
      "Training MLP of size (54, 18) and lr 0.001...\n",
      "  Fold n. 0\n",
      "AUC (Test set): 0\n",
      "  Fold n. 1\n",
      "AUC (Test set): 0.18507061842656514\n",
      "  Fold n. 2\n"
     ]
    },
    {
     "name": "stderr",
     "output_type": "stream",
     "text": [
      "/home/samu/miniconda3/envs/myenv/lib/python3.9/site-packages/sklearn/neural_network/_multilayer_perceptron.py:690: ConvergenceWarning: Stochastic Optimizer: Maximum iterations (600) reached and the optimization hasn't converged yet.\n",
      "  warnings.warn(\n"
     ]
    },
    {
     "name": "stdout",
     "output_type": "stream",
     "text": [
      "AUC (Test set): 0.3701694301461038\n",
      "  Fold n. 3\n"
     ]
    },
    {
     "name": "stderr",
     "output_type": "stream",
     "text": [
      "/home/samu/miniconda3/envs/myenv/lib/python3.9/site-packages/sklearn/neural_network/_multilayer_perceptron.py:690: ConvergenceWarning: Stochastic Optimizer: Maximum iterations (600) reached and the optimization hasn't converged yet.\n",
      "  warnings.warn(\n"
     ]
    },
    {
     "name": "stdout",
     "output_type": "stream",
     "text": [
      "AUC (Test set): 0.5559560609959462\n",
      "  Fold n. 4\n",
      "AUC (Test set): 0.7414887091633973\n",
      "Time needed for training: 12.37 seconds\n",
      "partial AUC: 0.1379264501393411  total AUC: 0.9265127843519931 \n",
      "\n",
      "Training MLP of size (54, 36) and lr 0.1...\n",
      "  Fold n. 0\n",
      "AUC (Test set): 0\n",
      "  Fold n. 1\n",
      "AUC (Test set): 0.18286868578848406\n",
      "  Fold n. 2\n",
      "AUC (Test set): 0.3661240571728386\n",
      "  Fold n. 3\n",
      "AUC (Test set): 0.5491331018121178\n",
      "  Fold n. 4\n",
      "AUC (Test set): 0.7318034623672705\n",
      "Time needed for training: 10.61 seconds\n",
      "partial AUC: 0.12799669944035705  total AUC: 0.9157656104409971 \n",
      "\n",
      "Training MLP of size (54, 36) and lr 0.01...\n",
      "  Fold n. 0\n",
      "AUC (Test set): 0\n",
      "  Fold n. 1\n",
      "AUC (Test set): 0.18623997170948878\n",
      "  Fold n. 2\n",
      "AUC (Test set): 0.372127344972586\n",
      "  Fold n. 3\n",
      "AUC (Test set): 0.5570870738308822\n",
      "  Fold n. 4\n",
      "AUC (Test set): 0.7430071367310911\n",
      "Time needed for training: 15.41 seconds\n",
      "partial AUC: 0.13743568025281605  total AUC: 0.9281647047314605 \n",
      "\n",
      "Training MLP of size (54, 36) and lr 0.001...\n",
      "  Fold n. 0\n"
     ]
    },
    {
     "name": "stderr",
     "output_type": "stream",
     "text": [
      "/home/samu/miniconda3/envs/myenv/lib/python3.9/site-packages/sklearn/neural_network/_multilayer_perceptron.py:690: ConvergenceWarning: Stochastic Optimizer: Maximum iterations (600) reached and the optimization hasn't converged yet.\n",
      "  warnings.warn(\n"
     ]
    },
    {
     "name": "stdout",
     "output_type": "stream",
     "text": [
      "AUC (Test set): 0\n",
      "  Fold n. 1\n"
     ]
    },
    {
     "name": "stderr",
     "output_type": "stream",
     "text": [
      "/home/samu/miniconda3/envs/myenv/lib/python3.9/site-packages/sklearn/neural_network/_multilayer_perceptron.py:690: ConvergenceWarning: Stochastic Optimizer: Maximum iterations (600) reached and the optimization hasn't converged yet.\n",
      "  warnings.warn(\n"
     ]
    },
    {
     "name": "stdout",
     "output_type": "stream",
     "text": [
      "AUC (Test set): 0.18533146714797805\n",
      "  Fold n. 2\n",
      "AUC (Test set): 0.37032382488197857\n",
      "  Fold n. 3\n"
     ]
    },
    {
     "name": "stderr",
     "output_type": "stream",
     "text": [
      "/home/samu/miniconda3/envs/myenv/lib/python3.9/site-packages/sklearn/neural_network/_multilayer_perceptron.py:690: ConvergenceWarning: Stochastic Optimizer: Maximum iterations (600) reached and the optimization hasn't converged yet.\n",
      "  warnings.warn(\n"
     ]
    },
    {
     "name": "stdout",
     "output_type": "stream",
     "text": [
      "AUC (Test set): 0.5554809675524971\n",
      "  Fold n. 4\n"
     ]
    },
    {
     "name": "stderr",
     "output_type": "stream",
     "text": [
      "/home/samu/miniconda3/envs/myenv/lib/python3.9/site-packages/sklearn/neural_network/_multilayer_perceptron.py:690: ConvergenceWarning: Stochastic Optimizer: Maximum iterations (600) reached and the optimization hasn't converged yet.\n",
      "  warnings.warn(\n"
     ]
    },
    {
     "name": "stdout",
     "output_type": "stream",
     "text": [
      "AUC (Test set): 0.7407337486780596\n",
      "Time needed for training: 15.33 seconds\n",
      "partial AUC: 0.13712385271070307  total AUC: 0.9257354029073726 \n",
      "\n",
      "Training MLP of size (54, 36, 18) and lr 0.1...\n",
      "  Fold n. 0\n",
      "AUC (Test set): 0\n",
      "  Fold n. 1\n"
     ]
    },
    {
     "name": "stderr",
     "output_type": "stream",
     "text": [
      "/home/samu/miniconda3/envs/myenv/lib/python3.9/site-packages/sklearn/neural_network/_multilayer_perceptron.py:690: ConvergenceWarning: Stochastic Optimizer: Maximum iterations (600) reached and the optimization hasn't converged yet.\n",
      "  warnings.warn(\n"
     ]
    },
    {
     "name": "stdout",
     "output_type": "stream",
     "text": [
      "AUC (Test set): 0.18020672853595693\n",
      "  Fold n. 2\n",
      "AUC (Test set): 0.36259910565284637\n",
      "  Fold n. 3\n"
     ]
    },
    {
     "name": "stderr",
     "output_type": "stream",
     "text": [
      "/home/samu/miniconda3/envs/myenv/lib/python3.9/site-packages/sklearn/neural_network/_multilayer_perceptron.py:690: ConvergenceWarning: Stochastic Optimizer: Maximum iterations (600) reached and the optimization hasn't converged yet.\n",
      "  warnings.warn(\n"
     ]
    },
    {
     "name": "stdout",
     "output_type": "stream",
     "text": [
      "AUC (Test set): 0.545219064620668\n",
      "  Fold n. 4\n"
     ]
    },
    {
     "name": "stderr",
     "output_type": "stream",
     "text": [
      "/home/samu/miniconda3/envs/myenv/lib/python3.9/site-packages/sklearn/neural_network/_multilayer_perceptron.py:690: ConvergenceWarning: Stochastic Optimizer: Maximum iterations (600) reached and the optimization hasn't converged yet.\n",
      "  warnings.warn(\n"
     ]
    },
    {
     "name": "stdout",
     "output_type": "stream",
     "text": [
      "AUC (Test set): 0.7258803796251203\n",
      "Time needed for training: 19.89 seconds\n",
      "partial AUC: 0.11962365599564706  total AUC: 0.9059526431667873 \n",
      "\n",
      "Training MLP of size (54, 36, 18) and lr 0.01...\n",
      "  Fold n. 0\n",
      "AUC (Test set): 0\n",
      "  Fold n. 1\n"
     ]
    },
    {
     "name": "stderr",
     "output_type": "stream",
     "text": [
      "/home/samu/miniconda3/envs/myenv/lib/python3.9/site-packages/sklearn/neural_network/_multilayer_perceptron.py:690: ConvergenceWarning: Stochastic Optimizer: Maximum iterations (600) reached and the optimization hasn't converged yet.\n",
      "  warnings.warn(\n"
     ]
    },
    {
     "name": "stdout",
     "output_type": "stream",
     "text": [
      "AUC (Test set): 0.18494168272033681\n",
      "  Fold n. 2\n",
      "AUC (Test set): 0.3677293127915219\n",
      "  Fold n. 3\n",
      "AUC (Test set): 0.5525055421998607\n",
      "  Fold n. 4\n",
      "AUC (Test set): 0.7371129764188017\n",
      "Time needed for training: 15.80 seconds\n",
      "partial AUC: 0.13291569992735972  total AUC: 0.9211525345253913 \n",
      "\n",
      "Training MLP of size (54, 36, 18) and lr 0.001...\n",
      "  Fold n. 0\n"
     ]
    },
    {
     "name": "stderr",
     "output_type": "stream",
     "text": [
      "/home/samu/miniconda3/envs/myenv/lib/python3.9/site-packages/sklearn/neural_network/_multilayer_perceptron.py:690: ConvergenceWarning: Stochastic Optimizer: Maximum iterations (600) reached and the optimization hasn't converged yet.\n",
      "  warnings.warn(\n"
     ]
    },
    {
     "name": "stdout",
     "output_type": "stream",
     "text": [
      "AUC (Test set): 0\n",
      "  Fold n. 1\n"
     ]
    },
    {
     "name": "stderr",
     "output_type": "stream",
     "text": [
      "/home/samu/miniconda3/envs/myenv/lib/python3.9/site-packages/sklearn/neural_network/_multilayer_perceptron.py:690: ConvergenceWarning: Stochastic Optimizer: Maximum iterations (600) reached and the optimization hasn't converged yet.\n",
      "  warnings.warn(\n"
     ]
    },
    {
     "name": "stdout",
     "output_type": "stream",
     "text": [
      "AUC (Test set): 0.1850766945672922\n",
      "  Fold n. 2\n"
     ]
    },
    {
     "name": "stderr",
     "output_type": "stream",
     "text": [
      "/home/samu/miniconda3/envs/myenv/lib/python3.9/site-packages/sklearn/neural_network/_multilayer_perceptron.py:690: ConvergenceWarning: Stochastic Optimizer: Maximum iterations (600) reached and the optimization hasn't converged yet.\n",
      "  warnings.warn(\n"
     ]
    },
    {
     "name": "stdout",
     "output_type": "stream",
     "text": [
      "AUC (Test set): 0.370773155488745\n",
      "  Fold n. 3\n"
     ]
    },
    {
     "name": "stderr",
     "output_type": "stream",
     "text": [
      "/home/samu/miniconda3/envs/myenv/lib/python3.9/site-packages/sklearn/neural_network/_multilayer_perceptron.py:690: ConvergenceWarning: Stochastic Optimizer: Maximum iterations (600) reached and the optimization hasn't converged yet.\n",
      "  warnings.warn(\n"
     ]
    },
    {
     "name": "stdout",
     "output_type": "stream",
     "text": [
      "AUC (Test set): 0.5561685436371717\n",
      "  Fold n. 4\n",
      "AUC (Test set): 0.7417600696082681\n",
      "Time needed for training: 14.76 seconds\n",
      "partial AUC: 0.13813644156286844  total AUC: 0.9272352982458485 \n",
      "\n"
     ]
    }
   ],
   "source": [
    "\n",
    "# redefine NN cycle\n",
    "hidden_layer_sizes = [(18,), (36,), (54,), (36,18), (54,18), (54,36), (54,36,18)]\n",
    "learning_rate_init = [ 0.1 , 0.01 , 0.001 ]\n",
    "\n",
    "start_time = time.time()\n",
    "\n",
    "auc_scorer = make_scorer(full_auc_scorer, greater_is_better=True, response_method='predict' ) \n",
    "\n",
    "parameters = []\n",
    "fprs = []\n",
    "tprs = []\n",
    "aucs = []\n",
    "partial_aucs = []\n",
    "hls = []\n",
    "lrs = []\n",
    "K = 5\n",
    "kf = KFold(n_splits=K, shuffle=True, random_state=42) \n",
    "\n",
    "for size in hidden_layer_sizes:\n",
    "    for lr in learning_rate_init:\n",
    "        print(f\"Training MLP of size {size} and lr {lr}...\")\n",
    "        lrs.append(lr)\n",
    "        hls.append(size)\n",
    "        partial_auc = 0\n",
    "        auc_value = 0\n",
    "\n",
    "        for i, (train_index, test_index) in enumerate(kf.split(X)):\n",
    "            \n",
    "            print(f\"  Fold n. {i}\")\n",
    "            train_K=data_rescaled_and_indexed.iloc[train_idx]\n",
    "            valid_K=data_rescaled_and_indexed.iloc[val_idx]\n",
    "            X_train_K, Y_train_K = split_X_Y(train_K)\n",
    "            X_valid_K, Y_valid_K = split_X_Y(valid_K)\n",
    "            \n",
    "            MLP = MLPClassifier(hidden_layer_sizes=size,\n",
    "                                activation='relu', \n",
    "                                max_iter=600, \n",
    "                                alpha=1e-4, \n",
    "                                solver='sgd', \n",
    "                                tol=1e-4, \n",
    "                                learning_rate='adaptive',\n",
    "                                learning_rate_init=lr,\n",
    "                                verbose=0)\n",
    "            \n",
    "            MLP.fit(X_train_K,Y_train_K)\n",
    "            parameters.append(MLP.coefs_)\n",
    "            \n",
    "            elapsed_time = time.time() - start_time\n",
    "            start_time = time.time()\n",
    "            \n",
    "            y_pred_proba = MLP.predict_proba(X_valid_K)[:, 1]  \n",
    "    \n",
    "            fpr, tpr, _ = roc_curve(Y_valid_K, y_pred_proba)\n",
    "            fprs.append(fpr)\n",
    "            tprs.append(tpr)\n",
    "            auc_value_k = auc(fpr, tpr)\n",
    "            print(\"AUC (Test set):\", auc_value)\n",
    "            \n",
    "            # search for fpr less than 0.2 (if not able fpr is set to zero)\n",
    "            partial_fpr = fpr[fpr <= 0.2]\n",
    "            if (len(partial_fpr) < 2 ):\n",
    "                partial_auc = 0\n",
    "            else:\n",
    "                partial_tpr = tpr[:len(partial_fpr)]\n",
    "                partial_auc_k = auc(partial_fpr, partial_tpr)\n",
    "            partial_auc += partial_auc_k/K\n",
    "            auc_value += auc_value_k/K                 \n",
    "            partial_aucs.append(partial_auc)\n",
    "\n",
    "        print(f\"Time needed for training: {elapsed_time:.2f} seconds\")\n",
    "        print(\"partial AUC:\",partial_auc,\" total AUC:\",auc_value,'\\n')\n"
   ]
  },
  {
   "cell_type": "markdown",
   "id": "e0db0682-c21f-455c-b549-2191d8956111",
   "metadata": {},
   "source": [
    "Saving the best model's performance and plotting it"
   ]
  },
  {
   "cell_type": "code",
   "execution_count": null,
   "id": "c2b916ad-b12a-41c9-86a3-46f6439186a3",
   "metadata": {},
   "outputs": [],
   "source": [
    "best_index_thresh = np.argmax(np.array(partial_aucs))\n",
    "best_auc_thresh = aucs[best_index_thresh]\n",
    "best_fpr_thresh = fprs[best_index_thresh]\n",
    "best_tpr_thresh = tprs[best_index_thresh]\n",
    "best_model = parameters[best_index_thresh]\n",
    "\n",
    "fpr_NN = best_fpr_thresh\n",
    "tpr_NN = best_tpr_thresh\n",
    "Q_NN = get_best_Q(fpr_NN,tpr_NN)\n",
    "\n",
    "print('best NN Q value:',Q_NN)\n",
    "\n",
    "plt.grid()\n",
    "plt.title('NN best ROC')\n",
    "plt.plot([0, 1], [0, 1], linestyle='--', color='grey')\n",
    "plt.plot(best_fpr_thresh,best_tpr_thresh,label='NN ROC',ms=4,alpha=0.5,c='lightblue')\n",
    "plt.xlabel('false positive rate')\n",
    "plt.ylabel('true positive rate')\n",
    "plt.legend()\n",
    "plt.show()\n"
   ]
  },
  {
   "cell_type": "markdown",
   "id": "da08f01a-99ad-409f-b4ea-f88e402f5493",
   "metadata": {},
   "source": [
    "Now we plot them all"
   ]
  },
  {
   "cell_type": "code",
   "execution_count": null,
   "id": "f6e41b5b-675c-445d-ad56-e07528d168a3",
   "metadata": {},
   "outputs": [],
   "source": [
    "print('best NN Q value:',Q_NN.round(3))\n",
    "print('best perceptron Q value:',Q_perceptron.round(3))\n",
    "print('best SVM Q value:',Q_SVM.round(3))\n",
    "print('best random forest Q value:',Q_rforest.round(3))\n",
    "\n",
    "plt.grid()\n",
    "plt.title('ROC comparison')\n",
    "plt.plot([0, 1], [0, 1], linestyle='--', color='grey')\n",
    "plt.plot(fpr_NN,tpr_NN,label='NN ROC',ms=2,alpha=0.4,c='#33ccff')\n",
    "plt.plot(fpr_perceptron,tpr_perceptron,label='perceptron ROC',ms=2,alpha=0.4,c='red')\n",
    "plt.plot(fpr_SVM,tpr_SVM,marker='o',label='SVM ROC',ms=2,alpha=0.4,c='orange')\n",
    "plt.plot(fpr_rforest,tpr_rforest,label='random forest ROC',ms=2,alpha=0.4,c='#1aff1a')\n",
    "plt.xlabel('false positive rate')\n",
    "plt.ylabel('true positive rate')\n",
    "plt.legend()\n",
    "plt.show()"
   ]
  }
 ],
 "metadata": {
  "kernelspec": {
   "display_name": "Python (myenv)",
   "language": "python",
   "name": "myenv"
  },
  "language_info": {
   "codemirror_mode": {
    "name": "ipython",
    "version": 3
   },
   "file_extension": ".py",
   "mimetype": "text/x-python",
   "name": "python",
   "nbconvert_exporter": "python",
   "pygments_lexer": "ipython3",
   "version": "3.9.20"
  }
 },
 "nbformat": 4,
 "nbformat_minor": 5
}
