{
 "cells": [
  {
   "cell_type": "markdown",
   "id": "0e5c3c0c-4026-41b3-b99d-1e4e688b4041",
   "metadata": {},
   "source": [
    "## Part 5.4: Neural Network\n",
    "Now we are going to train a Feed-Forward Fully-Connected Neural Network to classify the samples. Different models are going to be trained in a manual grid search in order to find the combination of hyper-parameters that maximize the partial AUC."
   ]
  },
  {
   "cell_type": "code",
   "execution_count": 25,
   "id": "cbfe8d3c-7ed1-4209-9855-bd2e571b41ad",
   "metadata": {},
   "outputs": [],
   "source": [
    "# this function determines the partial area under the curve, up to FPR<=0.2\n",
    "def partial_auc_at_fpr(y_true, y_pred_proba):\n",
    "    fpr, tpr, thresholds = roc_curve(y_true, y_pred_proba)\n",
    "    valid_indices = fpr <= 0.2  # indices where FPR <= 0.2\n",
    "    partial_fpr = fpr[valid_indices]\n",
    "    partial_tpr = tpr[valid_indices]\n",
    "    # check if there are at least 2 points for partial AUC calculation\n",
    "    if len(partial_fpr) < 2:\n",
    "        return 0  # return 0 if not enough points to calculate AUC\n",
    "\n",
    "    partial_auc = auc(partial_fpr, partial_tpr)\n",
    "    return partial_auc\n",
    "\n",
    "def full_auc_scorer(y_true, y_pred_proba):\n",
    "    fpr, tpr, _ = roc_curve(y_true, y_pred_proba)\n",
    "    return auc(fpr, tpr)\n",
    "\n",
    "# create scoring function (partial AUC) to implement a grid-search\n",
    "partial_auc_scorer = make_scorer(partial_auc_at_fpr, greater_is_better=True)\n"
   ]
  },
  {
   "cell_type": "code",
   "execution_count": null,
   "id": "7837c552-f872-4058-80cf-22c43c7686cc",
   "metadata": {},
   "outputs": [
    {
     "name": "stdout",
     "output_type": "stream",
     "text": [
      "Training MLP of size (18,) and lr 0.1...\n",
      "  Fold n. 0\n",
      "AUC (Test set): 0\n",
      "  Fold n. 1\n",
      "AUC (Test set): 0.18541483179875334\n",
      "  Fold n. 2\n",
      "AUC (Test set): 0.3704760929685988\n",
      "  Fold n. 3\n",
      "AUC (Test set): 0.554921719559978\n",
      "  Fold n. 4\n",
      "AUC (Test set): 0.7403270725791972\n",
      "Time needed for training: 2.07 seconds\n",
      "partial AUC: 0.1367961056798852  total AUC: 0.9254265526742158 \n",
      "\n",
      "Training MLP of size (18,) and lr 0.01...\n",
      "  Fold n. 0\n",
      "AUC (Test set): 0\n",
      "  Fold n. 1\n",
      "AUC (Test set): 0.18397272055859176\n",
      "  Fold n. 2\n",
      "AUC (Test set): 0.36870410804836484\n",
      "  Fold n. 3\n",
      "AUC (Test set): 0.5532743562860563\n",
      "  Fold n. 4\n",
      "AUC (Test set): 0.7382066209882661\n",
      "Time needed for training: 2.35 seconds\n",
      "partial AUC: 0.1345652506119433  total AUC: 0.92208935390269 \n",
      "\n",
      "Training MLP of size (18,) and lr 0.001...\n",
      "  Fold n. 0\n",
      "AUC (Test set): 0\n",
      "  Fold n. 1\n",
      "AUC (Test set): 0.18200708903338628\n",
      "  Fold n. 2\n",
      "AUC (Test set): 0.3649364754677338\n",
      "  Fold n. 3\n",
      "AUC (Test set): 0.548092805758237\n",
      "  Fold n. 4\n",
      "AUC (Test set): 0.730967506926041\n",
      "Time needed for training: 3.11 seconds\n",
      "partial AUC: 0.12857970514311895  total AUC: 0.9134803739135482 \n",
      "\n",
      "Training MLP of size (36,) and lr 0.1...\n",
      "  Fold n. 0\n",
      "AUC (Test set): 0\n",
      "  Fold n. 1\n",
      "AUC (Test set): 0.18575740461294526\n",
      "  Fold n. 2\n",
      "AUC (Test set): 0.3715653627167397\n",
      "  Fold n. 3\n",
      "AUC (Test set): 0.5571745702573518\n",
      "  Fold n. 4\n",
      "AUC (Test set): 0.74316566324266\n",
      "Time needed for training: 3.86 seconds\n",
      "partial AUC: 0.13902471257575807  total AUC: 0.9287694630180251 \n",
      "\n",
      "Training MLP of size (36,) and lr 0.01...\n",
      "  Fold n. 0\n",
      "AUC (Test set): 0\n",
      "  Fold n. 1\n",
      "AUC (Test set): 0.18448111125322528\n",
      "  Fold n. 2\n",
      "AUC (Test set): 0.3698864642724444\n",
      "  Fold n. 3\n"
     ]
    },
    {
     "name": "stderr",
     "output_type": "stream",
     "text": [
      "/home/samu/miniconda3/envs/myenv/lib/python3.9/site-packages/sklearn/neural_network/_multilayer_perceptron.py:697: UserWarning: Training interrupted by user.\n",
      "  warnings.warn(\"Training interrupted by user.\")\n"
     ]
    },
    {
     "name": "stdout",
     "output_type": "stream",
     "text": [
      "AUC (Test set): 0.5553794352409478\n",
      "  Fold n. 4\n"
     ]
    },
    {
     "name": "stderr",
     "output_type": "stream",
     "text": [
      "/home/samu/miniconda3/envs/myenv/lib/python3.9/site-packages/sklearn/neural_network/_multilayer_perceptron.py:697: UserWarning: Training interrupted by user.\n",
      "  warnings.warn(\"Training interrupted by user.\")\n"
     ]
    },
    {
     "name": "stdout",
     "output_type": "stream",
     "text": [
      "AUC (Test set): 0.7381728984072308\n",
      "Time needed for training: 6.26 seconds\n",
      "partial AUC: 0.13528606318639502  total AUC: 0.9231201104156292 \n",
      "\n",
      "Training MLP of size (36,) and lr 0.001...\n",
      "  Fold n. 0\n"
     ]
    },
    {
     "name": "stderr",
     "output_type": "stream",
     "text": [
      "/home/samu/miniconda3/envs/myenv/lib/python3.9/site-packages/sklearn/neural_network/_multilayer_perceptron.py:697: UserWarning: Training interrupted by user.\n",
      "  warnings.warn(\"Training interrupted by user.\")\n"
     ]
    },
    {
     "name": "stdout",
     "output_type": "stream",
     "text": [
      "AUC (Test set): 0\n",
      "  Fold n. 1\n"
     ]
    },
    {
     "name": "stderr",
     "output_type": "stream",
     "text": [
      "/home/samu/miniconda3/envs/myenv/lib/python3.9/site-packages/sklearn/neural_network/_multilayer_perceptron.py:697: UserWarning: Training interrupted by user.\n",
      "  warnings.warn(\"Training interrupted by user.\")\n"
     ]
    },
    {
     "name": "stdout",
     "output_type": "stream",
     "text": [
      "AUC (Test set): 0.1831608873960486\n",
      "  Fold n. 2\n",
      "AUC (Test set): 0.36521859068169127\n",
      "  Fold n. 3\n",
      "AUC (Test set): 0.5487052199821179\n",
      "  Fold n. 4\n"
     ]
    },
    {
     "name": "stderr",
     "output_type": "stream",
     "text": [
      "/home/samu/miniconda3/envs/myenv/lib/python3.9/site-packages/sklearn/neural_network/_multilayer_perceptron.py:697: UserWarning: Training interrupted by user.\n",
      "  warnings.warn(\"Training interrupted by user.\")\n"
     ]
    },
    {
     "name": "stdout",
     "output_type": "stream",
     "text": [
      "AUC (Test set): 0.731993524049213\n",
      "Time needed for training: 5.76 seconds\n",
      "partial AUC: 0.12963440165052287  total AUC: 0.9149165912972044 \n",
      "\n",
      "Training MLP of size (54,) and lr 0.1...\n",
      "  Fold n. 0\n"
     ]
    },
    {
     "name": "stderr",
     "output_type": "stream",
     "text": [
      "/home/samu/miniconda3/envs/myenv/lib/python3.9/site-packages/sklearn/neural_network/_multilayer_perceptron.py:697: UserWarning: Training interrupted by user.\n",
      "  warnings.warn(\"Training interrupted by user.\")\n",
      "/home/samu/miniconda3/envs/myenv/lib/python3.9/site-packages/sklearn/neural_network/_multilayer_perceptron.py:697: UserWarning: Training interrupted by user.\n",
      "  warnings.warn(\"Training interrupted by user.\")\n"
     ]
    },
    {
     "name": "stdout",
     "output_type": "stream",
     "text": [
      "AUC (Test set): 0\n",
      "  Fold n. 1\n",
      "AUC (Test set): 0.18340733566393838\n",
      "  Fold n. 2\n"
     ]
    },
    {
     "name": "stderr",
     "output_type": "stream",
     "text": [
      "/home/samu/miniconda3/envs/myenv/lib/python3.9/site-packages/sklearn/neural_network/_multilayer_perceptron.py:697: UserWarning: Training interrupted by user.\n",
      "  warnings.warn(\"Training interrupted by user.\")\n"
     ]
    },
    {
     "name": "stdout",
     "output_type": "stream",
     "text": [
      "AUC (Test set): 0.3656362038338625\n",
      "  Fold n. 3\n"
     ]
    },
    {
     "name": "stderr",
     "output_type": "stream",
     "text": [
      "/home/samu/miniconda3/envs/myenv/lib/python3.9/site-packages/sklearn/neural_network/_multilayer_perceptron.py:697: UserWarning: Training interrupted by user.\n",
      "  warnings.warn(\"Training interrupted by user.\")\n"
     ]
    },
    {
     "name": "stdout",
     "output_type": "stream",
     "text": [
      "AUC (Test set): 0.5489659471807162\n",
      "  Fold n. 4\n"
     ]
    },
    {
     "name": "stderr",
     "output_type": "stream",
     "text": [
      "/home/samu/miniconda3/envs/myenv/lib/python3.9/site-packages/sklearn/neural_network/_multilayer_perceptron.py:697: UserWarning: Training interrupted by user.\n",
      "  warnings.warn(\"Training interrupted by user.\")\n",
      "/home/samu/miniconda3/envs/myenv/lib/python3.9/site-packages/sklearn/neural_network/_multilayer_perceptron.py:697: UserWarning: Training interrupted by user.\n",
      "  warnings.warn(\"Training interrupted by user.\")\n"
     ]
    },
    {
     "name": "stdout",
     "output_type": "stream",
     "text": [
      "AUC (Test set): 0.7355607655086656\n",
      "Time needed for training: 0.23 seconds\n",
      "partial AUC: 0.1324632704888225  total AUC: 0.9198798260887 \n",
      "\n",
      "Training MLP of size (54,) and lr 0.01...\n",
      "  Fold n. 0\n",
      "AUC (Test set): 0\n",
      "  Fold n. 1\n"
     ]
    },
    {
     "name": "stderr",
     "output_type": "stream",
     "text": [
      "/home/samu/miniconda3/envs/myenv/lib/python3.9/site-packages/sklearn/neural_network/_multilayer_perceptron.py:697: UserWarning: Training interrupted by user.\n",
      "  warnings.warn(\"Training interrupted by user.\")\n"
     ]
    },
    {
     "name": "stdout",
     "output_type": "stream",
     "text": [
      "AUC (Test set): 0.17775591717369527\n",
      "  Fold n. 2\n"
     ]
    },
    {
     "name": "stderr",
     "output_type": "stream",
     "text": [
      "/home/samu/miniconda3/envs/myenv/lib/python3.9/site-packages/sklearn/neural_network/_multilayer_perceptron.py:697: UserWarning: Training interrupted by user.\n",
      "  warnings.warn(\"Training interrupted by user.\")\n",
      "/home/samu/miniconda3/envs/myenv/lib/python3.9/site-packages/sklearn/neural_network/_multilayer_perceptron.py:697: UserWarning: Training interrupted by user.\n",
      "  warnings.warn(\"Training interrupted by user.\")\n"
     ]
    },
    {
     "name": "stdout",
     "output_type": "stream",
     "text": [
      "AUC (Test set): 0.36237842022163935\n",
      "  Fold n. 3\n",
      "AUC (Test set): 0.5438805819606065\n",
      "  Fold n. 4\n"
     ]
    },
    {
     "name": "stderr",
     "output_type": "stream",
     "text": [
      "/home/samu/miniconda3/envs/myenv/lib/python3.9/site-packages/sklearn/neural_network/_multilayer_perceptron.py:697: UserWarning: Training interrupted by user.\n",
      "  warnings.warn(\"Training interrupted by user.\")\n"
     ]
    },
    {
     "name": "stdout",
     "output_type": "stream",
     "text": [
      "AUC (Test set): 0.7231133658994222\n",
      "Time needed for training: 0.14 seconds\n",
      "partial AUC: 0.12433813358577672  total AUC: 0.9028285954119668 \n",
      "\n",
      "Training MLP of size (54,) and lr 0.001...\n",
      "  Fold n. 0\n"
     ]
    },
    {
     "name": "stderr",
     "output_type": "stream",
     "text": [
      "/home/samu/miniconda3/envs/myenv/lib/python3.9/site-packages/sklearn/neural_network/_multilayer_perceptron.py:697: UserWarning: Training interrupted by user.\n",
      "  warnings.warn(\"Training interrupted by user.\")\n"
     ]
    },
    {
     "name": "stdout",
     "output_type": "stream",
     "text": [
      "AUC (Test set): 0\n",
      "  Fold n. 1\n"
     ]
    },
    {
     "name": "stderr",
     "output_type": "stream",
     "text": [
      "/home/samu/miniconda3/envs/myenv/lib/python3.9/site-packages/sklearn/neural_network/_multilayer_perceptron.py:697: UserWarning: Training interrupted by user.\n",
      "  warnings.warn(\"Training interrupted by user.\")\n",
      "/home/samu/miniconda3/envs/myenv/lib/python3.9/site-packages/sklearn/neural_network/_multilayer_perceptron.py:697: UserWarning: Training interrupted by user.\n",
      "  warnings.warn(\"Training interrupted by user.\")\n"
     ]
    },
    {
     "name": "stdout",
     "output_type": "stream",
     "text": [
      "AUC (Test set): 0.1820510802922502\n",
      "  Fold n. 2\n",
      "AUC (Test set): 0.35469313514582584\n",
      "  Fold n. 3\n",
      "AUC (Test set): 0.5216759332876205\n",
      "  Fold n. 4\n"
     ]
    },
    {
     "name": "stderr",
     "output_type": "stream",
     "text": [
      "/home/samu/miniconda3/envs/myenv/lib/python3.9/site-packages/sklearn/neural_network/_multilayer_perceptron.py:697: UserWarning: Training interrupted by user.\n",
      "  warnings.warn(\"Training interrupted by user.\")\n"
     ]
    }
   ],
   "source": [
    "\n",
    "# redefine NN cycle\n",
    "hidden_layer_sizes = [(18,), (36,), (54,), (36,18), (54,18), (54,36), (54,36,18)]\n",
    "learning_rate_init = [ 0.1 , 0.01 , 0.001 ]\n",
    "\n",
    "start_time = time.time()\n",
    "\n",
    "auc_scorer = make_scorer(full_auc_scorer, greater_is_better=True, response_method='predict' ) \n",
    "\n",
    "parameters = []\n",
    "fprs = []\n",
    "tprs = []\n",
    "aucs = []\n",
    "partial_aucs = []\n",
    "hls = []\n",
    "lrs = []\n",
    "K = 5\n",
    "kf = KFold(n_splits=K, shuffle=True, random_state=42) \n",
    "\n",
    "for size in hidden_layer_sizes:\n",
    "    for lr in learning_rate_init:\n",
    "        print(f\"Training MLP of size {size} and lr {lr}...\")\n",
    "        lrs.append(lr)\n",
    "        hls.append(size)\n",
    "        partial_auc = 0\n",
    "        auc_value = 0\n",
    "\n",
    "        for i, (train_index, test_index) in enumerate(kf.split(X)):\n",
    "            \n",
    "            print(f\"  Fold n. {i}\")\n",
    "            train_K=data_rescaled_and_indexed.iloc[train_idx]\n",
    "            valid_K=data_rescaled_and_indexed.iloc[val_idx]\n",
    "            X_train_K, Y_train_K = split_X_Y(train_K)\n",
    "            X_valid_K, Y_valid_K = split_X_Y(valid_K)\n",
    "            \n",
    "            MLP = MLPClassifier(hidden_layer_sizes=size,\n",
    "                                activation='relu', \n",
    "                                max_iter=600, \n",
    "                                alpha=1e-4, \n",
    "                                solver='sgd', \n",
    "                                tol=1e-4, \n",
    "                                learning_rate='adaptive',\n",
    "                                learning_rate_init=lr,\n",
    "                                verbose=0)\n",
    "            \n",
    "            MLP.fit(X_train_K,Y_train_K)\n",
    "            parameters.append(MLP.coefs_)\n",
    "            \n",
    "            elapsed_time = time.time() - start_time\n",
    "            start_time = time.time()\n",
    "            \n",
    "            y_pred_proba = MLP.predict_proba(X_valid_K)[:, 1]  \n",
    "    \n",
    "            fpr, tpr, _ = roc_curve(Y_valid_K, y_pred_proba)\n",
    "            fprs.append(fpr)\n",
    "            tprs.append(tpr)\n",
    "            auc_value_k = auc(fpr, tpr)\n",
    "            print(\"AUC (Test set):\", auc_value)\n",
    "            \n",
    "            # search for fpr less than 0.2 (if not able fpr is set to zero)\n",
    "            partial_fpr = fpr[fpr <= 0.2]\n",
    "            if (len(partial_fpr) < 2 ):\n",
    "                partial_auc = 0\n",
    "            else:\n",
    "                partial_tpr = tpr[:len(partial_fpr)]\n",
    "                partial_auc_k = auc(partial_fpr, partial_tpr)\n",
    "            partial_auc += partial_auc_k/K\n",
    "            auc_value += auc_value_k/K                 \n",
    "            partial_aucs.append(partial_auc)\n",
    "\n",
    "        print(f\"Time needed for training: {elapsed_time:.2f} seconds\")\n",
    "        print(\"partial AUC:\",partial_auc,\" total AUC:\",auc_value,'\\n')\n"
   ]
  },
  {
   "cell_type": "markdown",
   "id": "e0db0682-c21f-455c-b549-2191d8956111",
   "metadata": {},
   "source": [
    "Saving the best model's performance and plotting it"
   ]
  },
  {
   "cell_type": "code",
   "execution_count": 1,
   "id": "c2b916ad-b12a-41c9-86a3-46f6439186a3",
   "metadata": {},
   "outputs": [
    {
     "ename": "NameError",
     "evalue": "name 'np' is not defined",
     "output_type": "error",
     "traceback": [
      "\u001b[0;31m---------------------------------------------------------------------------\u001b[0m",
      "\u001b[0;31mNameError\u001b[0m                                 Traceback (most recent call last)",
      "Cell \u001b[0;32mIn[1], line 1\u001b[0m\n\u001b[0;32m----> 1\u001b[0m best_index_thresh \u001b[38;5;241m=\u001b[39m \u001b[43mnp\u001b[49m\u001b[38;5;241m.\u001b[39margmax(np\u001b[38;5;241m.\u001b[39marray(partial_aucs))\n\u001b[1;32m      2\u001b[0m best_auc_thresh \u001b[38;5;241m=\u001b[39m aucs[best_index_thresh]\n\u001b[1;32m      3\u001b[0m best_fpr_thresh \u001b[38;5;241m=\u001b[39m fprs[best_index_thresh]\n",
      "\u001b[0;31mNameError\u001b[0m: name 'np' is not defined"
     ]
    }
   ],
   "source": [
    "best_index_thresh = np.argmax(np.array(partial_aucs))\n",
    "best_auc_thresh = aucs[best_index_thresh]\n",
    "best_fpr_thresh = fprs[best_index_thresh]\n",
    "best_tpr_thresh = tprs[best_index_thresh]\n",
    "best_parameters = parameters[best_index_thresh]\n",
    "best_size = hls[best_index_thresh]\n",
    "best_lr = lrs[best_index_thresh]\n",
    "\n",
    "\n",
    "best_NN = MLPClassifier(hidden_layer_sizes=best_size,\n",
    "                                activation='relu', \n",
    "                                max_iter=600, \n",
    "                                alpha=1e-4, \n",
    "                                solver='sgd', \n",
    "                                tol=1e-4, \n",
    "                                learning_rate='adaptive',\n",
    "                                learning_rate_init=best_lr,\n",
    "                                verbose=0)\n",
    "best_NN.fit(X_train,Y_train) # retrain the best\n",
    "y_pred_proba_NN = best_NN.predict_proba(X_test)[:, 1]  \n",
    "\n",
    "fpr_test, tpr_test, _ = roc_curve(Y_test, y_pred_proba_NN)\n",
    "auc_test= auc(fpr_test,tpr_test)\n",
    "partial_fpr_test = fpr_test[fpr_test <= 0.2]\n",
    "if (len(partial_fpr_test)<2):\n",
    "    partial_auc_test=0\n",
    "else:\n",
    "    partial_tpr_test = tpr_test[:len(partial_fpr_test)]\n",
    "    partial_auc_test = auc(partial_fpr_test, partial_tpr_test)\n",
    "\n",
    "fpr_NN = fpr_test\n",
    "tpr_NN = tpr_test\n",
    "Q_NN = get_best_Q(fpr_NN,tpr_NN)\n",
    "\n",
    "print('best NN Q value:',Q_NN)\n",
    "\n",
    "plt.grid()\n",
    "plt.title('NN best ROC')\n",
    "plt.plot([0, 1], [0, 1], linestyle='--', color='grey')\n",
    "plt.plot(fpr_test,tpr_test,label='NN ROC',ms=4,alpha=0.5,c='lightblue')\n",
    "plt.xlabel('false positive rate')\n",
    "plt.ylabel('true positive rate')\n",
    "plt.legend()\n",
    "plt.show()\n"
   ]
  },
  {
   "cell_type": "markdown",
   "id": "da08f01a-99ad-409f-b4ea-f88e402f5493",
   "metadata": {},
   "source": [
    "Now we plot them all"
   ]
  },
  {
   "cell_type": "code",
   "execution_count": null,
   "id": "f6e41b5b-675c-445d-ad56-e07528d168a3",
   "metadata": {},
   "outputs": [],
   "source": [
    "print('best NN Q value:',Q_NN.round(3))\n",
    "print('best perceptron Q value:',Q_perceptron.round(3))\n",
    "print('best SVM Q value:',Q_SVM.round(3))\n",
    "print('best random forest Q value:',Q_rforest.round(3))\n",
    "\n",
    "plt.grid()\n",
    "plt.title('ROC comparison')\n",
    "plt.plot([0, 1], [0, 1], linestyle='--', color='grey')\n",
    "plt.plot(fpr_NN,tpr_NN,label='NN ROC',ms=2,alpha=0.4,c='#33ccff')\n",
    "plt.plot(fpr_perceptron,tpr_perceptron,label='perceptron ROC',ms=2,alpha=0.4,c='red')\n",
    "plt.plot(fpr_SVM,tpr_SVM,marker='o',label='SVM ROC',ms=2,alpha=0.4,c='orange')\n",
    "plt.plot(fpr_rforest,tpr_rforest,label='random forest ROC',ms=2,alpha=0.4,c='#1aff1a')\n",
    "plt.xlabel('false positive rate')\n",
    "plt.ylabel('true positive rate')\n",
    "plt.legend()\n",
    "plt.show()"
   ]
  }
 ],
 "metadata": {
  "kernelspec": {
   "display_name": "Python (myenv)",
   "language": "python",
   "name": "myenv"
  },
  "language_info": {
   "codemirror_mode": {
    "name": "ipython",
    "version": 3
   },
   "file_extension": ".py",
   "mimetype": "text/x-python",
   "name": "python",
   "nbconvert_exporter": "python",
   "pygments_lexer": "ipython3",
   "version": "3.9.20"
  }
 },
 "nbformat": 4,
 "nbformat_minor": 5
}
