{
 "cells": [
  {
   "cell_type": "markdown",
   "id": "4da557aa",
   "metadata": {},
   "source": [
    "We are going to implement a classification algorithm with a Feed Forward Fully Connected Neural Network, also called Multi Layer Perceptron (MLP).  "
   ]
  },
  {
   "cell_type": "code",
   "execution_count": 55,
   "id": "40608f54",
   "metadata": {},
   "outputs": [],
   "source": [
    "%matplotlib inline  \n",
    "\n",
    "import os\n",
    "import gzip\n",
    "from time import time\n",
    "from copy import deepcopy as cp\n",
    "import typing as tp\n",
    "import operator\n",
    "import warnings\n",
    "import sklearn\n",
    "from sklearn.neural_network import MLPClassifier\n",
    "from sklearn.model_selection import GridSearchCV\n",
    "import sklearn.metrics as skm\n",
    "from sklearn.metrics import roc_curve, auc\n",
    "from sklearn.metrics import make_scorer\n",
    "from sklearn.metrics import confusion_matrix\n",
    "from sklearn.exceptions import ConvergenceWarning\n",
    "from sklearn.model_selection import train_test_split\n",
    "\n",
    "\n",
    "\n",
    "warnings.filterwarnings(\"ignore\", category=ConvergenceWarning)"
   ]
  },
  {
   "cell_type": "code",
   "execution_count": 5,
   "id": "17cfb155",
   "metadata": {},
   "outputs": [],
   "source": [
    "# this function takes col category and returns as Y (target), the other columns are X (labels)\n",
    "def split_X_Y(data):\n",
    "    Y = data['category']\n",
    "    X = data.drop('category',axis=1)\n",
    "\n",
    "    return X,Y\n",
    "\n",
    "# this function divides the dataset in input in parts_to_be_split parts. One of them is returned as test_set\n",
    "# the other ones are the training_set. Indexes of the chosen data can be accessed (test_indexes, train_indexes)\n",
    "# (for example in a K-fold)\n",
    "\n",
    "def split_train_test_set(data,parts_to_be_split):\n",
    "    indexes = np.arange(0,data.shape[0],1)\n",
    "    rnd.shuffle(indexes)\n",
    "    len_test_set = int(len(indexes) / parts_to_be_split)\n",
    "\n",
    "    test_indexes = indexes[:len_test_set]\n",
    "    train_indexes = indexes[len_test_set:]\n",
    "\n",
    "    train_set = data.iloc[train_indexes]\n",
    "    test_set = data.iloc[test_indexes]\n",
    "    \n",
    "    return train_set, test_set"
   ]
  },
  {
   "cell_type": "code",
   "execution_count": 84,
   "id": "d6580e27",
   "metadata": {},
   "outputs": [
    {
     "name": "stdout",
     "output_type": "stream",
     "text": [
      "shape of train_set: (15216, 10) (15216,)\n",
      "shape of train_set: (3803, 10) (3803,)\n",
      "       fLength   fWidth   fSize   fConc  fConc1    fAsym  fM3Long  fM3Trans  \\\n",
      "87     41.0677  16.2578  2.7308  0.3532  0.1812  47.4405  37.9125   16.1237   \n",
      "6218   21.1472   6.4262  2.1917  0.7717  0.5113 -18.8597 -16.9767    6.2189   \n",
      "2239   86.3172  27.7342  3.3879  0.1887  0.1091 -72.2713 -53.3688   21.5520   \n",
      "16799  22.3881   7.9780  2.2882  0.6418  0.3604 -12.9964  -4.4094   -3.9880   \n",
      "13090  33.7758  18.1018  2.7945  0.2905  0.1581   5.4566 -21.1754  -11.6431   \n",
      "...        ...      ...     ...     ...     ...      ...      ...       ...   \n",
      "17932  23.0916   8.9710  2.4108  0.6175  0.4291   9.7476   9.2490   -6.5998   \n",
      "13148  31.1555  12.3874  2.6597  0.4183  0.2364  -7.1292  27.3118   -0.4479   \n",
      "1020   30.8252  10.7739  2.4040  0.4852  0.2623 -40.6069 -16.8903  -11.7654   \n",
      "9140   53.0719  22.5881  2.9467  0.2973  0.1668  32.0257  53.2193  -17.9499   \n",
      "5187   31.8057  21.1941  2.8985  0.3007  0.1598  35.0246  10.1580   10.9639   \n",
      "\n",
      "        fAlpha     fDist  \n",
      "87     17.6710  213.3170  \n",
      "6218   45.6070  171.9520  \n",
      "2239    0.8970  268.7020  \n",
      "16799  84.3610  191.4178  \n",
      "13090  42.8780   91.3619  \n",
      "...        ...       ...  \n",
      "17932  73.6960  149.1580  \n",
      "13148  61.9402  241.7095  \n",
      "1020    3.2586  229.6290  \n",
      "9140    8.1180  139.5920  \n",
      "5187    9.0870  214.5980  \n",
      "\n",
      "[15216 rows x 10 columns] [1 1 1 ... 1 1 1]\n"
     ]
    }
   ],
   "source": [
    "train_set, test_set = split_train_test_set(data,5)\n",
    "X_train,Y_train = split_X_Y(train_set)\n",
    "X_test,Y_test = split_X_Y(test_set)\n",
    "Y_train = np.array(np.where(Y_train == 'g', 1, -1))\n",
    "Y_test  = np.array(np.where(Y_test == 'g', 1, -1))\n",
    "\n",
    "print('shape of train_set:',np.shape(X_train),np.shape(Y_train))\n",
    "print('shape of train_set:',np.shape(X_test),np.shape(Y_test))\n",
    "print(X_train,Y_train)\n"
   ]
  },
  {
   "cell_type": "markdown",
   "id": "8a4e5b9f-5562-4f67-98e7-d0a77a5a996f",
   "metadata": {},
   "source": [
    "We choose the RELU activation function for the hidden layers (most frequent choice) and the Stochastic Gradient Descent method to compute the weights with Backpropagation. Thus, the hyper-parameters of the hypothesis class we have to tune are the **architecture of the network** (number of hidden layers and neurons in each hidden layer) and the **learning rate**. We implement a grid search to find the combination of these parameters that maximizes the partial area under the ROC curve, up until a false positive rate FPR $\\le$ 0.2.      "
   ]
  },
  {
   "cell_type": "code",
   "execution_count": null,
   "id": "99ed8975",
   "metadata": {},
   "outputs": [
    {
     "name": "stdout",
     "output_type": "stream",
     "text": [
      "Fitting 5 folds for each of 21 candidates, totalling 105 fits\n"
     ]
    },
    {
     "name": "stderr",
     "output_type": "stream",
     "text": [
      "/opt/conda/envs/anaconda-ai-2024.04-py310/lib/python3.10/site-packages/sklearn/neural_network/_multilayer_perceptron.py:691: ConvergenceWarning: Stochastic Optimizer: Maximum iterations (300) reached and the optimization hasn't converged yet.\n",
      "  warnings.warn(\n"
     ]
    }
   ],
   "source": [
    "parameters = {'hidden_layer_sizes': [(18,), (36,), (54), (36,18), (54,18), (54,36), (54,36,18)],'learning_rate_init': [0.1,0.01,0.001]}\n",
    "\n",
    "MLP=MLPClassifier(activation = 'relu', max_iter = 300, alpha = 1e-4, solver = 'sgd',tol = 1e-4, learning_rate = 'adaptive')\n",
    "\n",
    "# this function determines the partial area under the curve, up to FPR<=0.2\n",
    "def partial_auc_at_fpr(y_true, y_pred_proba):\n",
    "    fpr, tpr, thresholds = roc_curve(y_true, y_pred_proba)\n",
    "    valid_indices = fpr <= 0.2  # indices where FPR <= 0.2\n",
    "    partial_fpr = fpr[valid_indices]\n",
    "    partial_tpr = tpr[valid_indices]\n",
    "    # check if there are at least 2 points for partial AUC calculation\n",
    "    if len(partial_fpr) < 2:\n",
    "        return 0  # return 0 if not enough points to calculate AUC\n",
    "\n",
    "    partial_auc = auc(partial_fpr, partial_tpr)\n",
    "    return partial_auc\n",
    "\n",
    "# create scoring function (partial AUC) to implement a grid-search\n",
    "partial_auc_scorer = make_scorer(partial_auc_at_fpr, greater_is_better=True)\n",
    "\n",
    "# to print the results after each combination is evaluated\n",
    "class VerboseGridSearchCV(GridSearchCV):\n",
    "    def _run_search(self, evaluate_candidates):\n",
    "        super()._run_search(evaluate_candidates)\n",
    "        \n",
    "        # print the partial AUC after each parameter evaluation\n",
    "        for i, params in enumerate(self.cv_results_['params']):\n",
    "            mean_score = self.cv_results_['mean_test_score'][i]\n",
    "            print(f\"Parameters: {params} - Partial AUC: {mean_score}\")\n",
    "\n",
    "# implement the grid-search to maximize the partial AUC (5-fold cross-validation)\n",
    "grid_search = VerboseGridSearchCV(estimator=MLP, param_grid=parameters, scoring=partial_auc_scorer, cv=5, n_jobs=-1, verbose=2)\n",
    "grid_search.fit(X_train, Y_train)\n",
    "\n",
    "print(\"Best Parameters:\", grid_search.best_params_,)\n",
    "print(\"Best partial AUC (Training set):\", grid_search.best_score_)\n",
    "\n",
    "# evaluate the best model on the test set and plot its ROC curve\n",
    "best_model = grid_search.best_estimator_\n",
    "y_pred_proba = best_model.predict_proba(X_test)[:, 1]  \n",
    "fpr, tpr, _ = roc_curve(y_test, y_pred_proba)\n",
    "partial_fpr = fpr[fpr <= 0.2]\n",
    "partial_tpr = tpr[fpr <= 0.2]\n",
    "test_partial_auc = auc(partial_fpr, partial_tpr)\n",
    "print(\"Best partial AUC (Test set):\", test_partial_auc)"
   ]
  },
  {
   "cell_type": "code",
   "execution_count": 28,
   "id": "ba33e420",
   "metadata": {},
   "outputs": [
    {
     "name": "stdout",
     "output_type": "stream",
     "text": [
      "(32,)\n",
      "['h' 'g' 'g' 'g' 'g' 'g' 'g' 'h' 'g' 'g' 'h' 'g' 'g' 'g' 'h' 'g' 'g' 'g'\n",
      " 'g' 'h' 'g' 'g' 'g' 'h' 'g' 'h' 'g' 'h' 'h' 'g' 'g' 'g' 'g' 'g' 'h' 'g'\n",
      " 'g' 'g' 'g' 'g' 'g' 'g' 'g' 'g' 'h' 'g' 'h' 'h' 'g' 'g' 'h' 'g' 'h' 'h'\n",
      " 'h' 'g' 'g' 'h' 'g' 'h' 'g' 'g' 'h' 'h' 'g' 'g' 'g' 'h' 'g' 'g' 'h' 'g'\n",
      " 'g' 'g' 'h' 'g' 'h' 'g' 'g' 'g' 'g' 'g' 'g' 'h' 'g' 'g' 'g' 'g' 'g' 'h'\n",
      " 'g' 'g' 'g' 'g' 'g' 'g' 'g' 'h' 'g' 'h' 'h' 'g' 'g' 'h' 'g' 'h' 'g' 'g'\n",
      " 'g' 'g' 'h' 'g' 'g' 'g' 'h' 'g' 'g' 'h' 'g' 'h' 'h' 'g' 'g' 'g' 'g' 'g'\n",
      " 'g' 'g' 'g' 'g' 'h' 'g' 'g' 'g' 'g' 'h' 'g' 'g' 'g' 'g' 'g' 'g' 'h' 'g'\n",
      " 'g' 'g' 'g' 'g' 'h' 'g' 'g' 'g' 'g' 'g' 'g' 'h' 'g' 'g' 'h' 'g' 'h' 'g'\n",
      " 'g' 'g' 'h' 'g' 'h' 'g' 'g' 'h' 'g' 'h' 'g' 'h' 'h' 'g' 'g' 'g' 'g' 'h'\n",
      " 'g' 'g' 'g' 'g' 'g' 'h' 'g' 'g' 'g' 'g' 'g' 'h' 'g' 'g' 'h' 'g' 'g' 'g'\n",
      " 'g' 'g']\n"
     ]
    }
   ],
   "source": [
    "print(models.best_params_['hidden_layer_sizes'])\n",
    "\n",
    "best_model=MLPClassifier(activation = 'relu', hidden_layer_sizes = models.best_params_['hidden_layer_sizes'], learning_rate_init=models.best_params_['learning_rate_init'], max_iter = 200, alpha = 1e-4, solver = 'sgd',tol = 1e-4, learning_rate = 'adaptive')\n",
    "best_model.fit(X_train,Y_train)\n",
    "best_pred = best_model.predict(X_test)\n",
    "accuracy = skm.accuracy_score(Y_test, best_pred)\n"
   ]
  },
  {
   "cell_type": "code",
   "execution_count": 49,
   "id": "e024ff62",
   "metadata": {},
   "outputs": [
    {
     "name": "stdout",
     "output_type": "stream",
     "text": [
      "Neural network Q factor: 2.28\n"
     ]
    },
    {
     "data": {
      "image/png": "[encoded data removed]",
      "text/plain": [
       "<Figure size 640x480 with 2 Axes>"
      ]
     },
     "metadata": {},
     "output_type": "display_data"
    }
   ],
   "source": [
    "def plot_conf_matrix(conf_matrix: np.ndarray) -> None:\n",
    "    sns.heatmap(conf_matrix, annot=True, fmt=\"d\",)\n",
    "    plt.title(\"Confusion matrix\")\n",
    "    plt.xlabel(\"Predicted label\")\n",
    "    plt.ylabel(\"True label\")\n",
    "\n",
    "    plt.tight_layout()\n",
    "    plt.show()\n",
    "    plt.close()\n",
    "\n",
    "labels, freqs = np.unique(Y_test, return_counts=True) \n",
    "cm_NN = skm.confusion_matrix(Y_test, best_pred)\n",
    "print(f'Neural network Q factor: {betsNN_Q:.2f}')\n",
    "plot_conf_matrix(cm_NN)\n"
   ]
  },
  {
   "cell_type": "code",
   "execution_count": null,
   "id": "16ec455b",
   "metadata": {},
   "outputs": [],
   "source": []
  },
  {
   "cell_type": "code",
   "execution_count": null,
   "id": "1ad1ee81",
   "metadata": {},
   "outputs": [],
   "source": []
  }
 ],
 "metadata": {
  "kernelspec": {
   "display_name": "anaconda-ai-2024.04-py310",
   "language": "python",
   "name": "conda-env-anaconda-ai-2024.04-py310-py"
  },
  "language_info": {
   "codemirror_mode": {
    "name": "ipython",
    "version": 3
   },
   "file_extension": ".py",
   "mimetype": "text/x-python",
   "name": "python",
   "nbconvert_exporter": "python",
   "pygments_lexer": "ipython3",
   "version": "3.10.13"
  }
 },
 "nbformat": 4,
 "nbformat_minor": 5
}
