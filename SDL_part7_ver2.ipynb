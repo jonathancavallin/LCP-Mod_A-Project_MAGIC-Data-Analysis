{
 "cells": [
  {
   "cell_type": "markdown",
   "id": "a18d396b",
   "metadata": {},
   "source": [
    "# LCP Project: analysis of MAGIC04 dataset\n",
    "First, we import the libraries"
   ]
  },
  {
   "cell_type": "code",
   "execution_count": 16,
   "id": "dc056d9e",
   "metadata": {},
   "outputs": [],
   "source": [
    "# math libraries\n",
    "import numpy as np\n",
    "import pandas as pd\n",
    "import numpy.random as npr\n",
    "import matplotlib.pyplot as plt\n",
    "import seaborn as sns\n",
    "import random as rnd\n",
    "import uncertainties as un\n",
    "\n",
    "# general OS libraries\n",
    "from time import time\n",
    "import gzip\n",
    "import os\n",
    "import operator\n",
    "import warnings\n",
    "from IPython.core.interactiveshell import InteractiveShell\n",
    "\n",
    "# ML libraries\n",
    "import sklearn\n",
    "from sklearn.metrics import roc_curve, roc_auc_score, auc, confusion_matrix, accuracy_score, make_scorer\n",
    "from sklearn.pipeline import make_pipeline\n",
    "from sklearn.preprocessing import StandardScaler\n",
    "from sklearn.linear_model import Perceptron\n",
    "from sklearn.datasets import make_classification\n",
    "from sklearn.svm import NuSVC\n",
    "from sklearn.neural_network import MLPClassifier\n",
    "from sklearn.model_selection import GridSearchCV, train_test_split\n",
    "from sklearn.exceptions import ConvergenceWarning\n",
    "from sklearn.ensemble import RandomForestClassifier"
   ]
  },
  {
   "cell_type": "markdown",
   "id": "7dc675a7-d5f9-4850-b511-b4fa218e799f",
   "metadata": {},
   "source": [
    "# Part 7: Calculation of the observation time\n",
    "Assuming that the telescope has a collection area of 10^9 cm^2 and that we are observing gamma rays between 50 GeV and 50 TeV, to what observation time does this measurement corresponds? (assume here the Crab spectrum measured by HEGRA [Aharonian, F. et al. 2000])"
   ]
  },
  {
   "cell_type": "markdown",
   "id": "f7a8bd7a-1541-425f-b227-cf7e4c641556",
   "metadata": {},
   "source": [
    "------da rivedere descrizione-------\n",
    "- da capire +- 0.5\n",
    "- da capire se vogliamo dividere il range 0.05 Tev - 50 Tev in due e usare il primo integrale per 1-50 e il secondo (log) per 0.05-1 (al momento non sono divisi)"
   ]
  },
  {
   "cell_type": "markdown",
   "id": "3dfc2069-9f04-403a-8a2f-12d6e608c142",
   "metadata": {},
   "source": [
    "To calculate the observation time corresponding to the Cherenkov telescope measurement, we use the Crab Nebula spectrum measured by HEGRA. Then, converting the telescope's collection area to square meters ( $A = 10^9 \\, \\text{cm}^2 = 10^5 \\, \\text{m}^2 $), we can determine\n",
    "the event rate by integrating the flux over the energy range from **50 GeV to 50 TeV**:\n",
    "\n",
    "$$\n",
    "R = A \\cdot J_{\\gamma} =  A \\int_{0.05 \\, TeV}^{50 \\, TeV} \\frac{dJ_{\\gamma}}{dE} dE\n",
    "$$\n",
    "\n",
    "This integration provides the **event rate in photons per second**. Given the total number of recorded events $n_\\gamma$, we can then calculate the **observation time** by dividing the number of events by the event rate:\n",
    "\n",
    "$$\n",
    "\\Delta t = \\frac{n_{\\gamma}}{R}\n",
    "$$"
   ]
  },
  {
   "cell_type": "code",
   "execution_count": 17,
   "id": "a5cc8e16-5041-4845-a9dc-4d32e0c19cb3",
   "metadata": {},
   "outputs": [],
   "source": [
    "# Constants\n",
    "A = 10**9 * 1e-4  # collection area in m^2\n",
    "E0 = 1.0  # TeV\n",
    "Emin = 0.05  # TeV = 50 GeV\n",
    "Emax = 50  # TeV\n",
    "n_gamma, sigma_n_gamma =  4199, 0.4 \n",
    "\n",
    "# Constants for the first integral\n",
    "alpha1, alpha1_err = 2.59, 0.03\n",
    "c1, c1_err = 2.79e-7, 0.02e-7\n",
    "\n",
    "# Constants for the second integral\n",
    "c2, c2_err = 2.67e-7, 0.01e-7\n",
    "alpha2, alpha2_err = 2.47, 0.1\n",
    "beta, beta_err = 0.11, 0.1"
   ]
  },
  {
   "cell_type": "markdown",
   "id": "f035ee9a-9159-4967-9e24-46d587db5d43",
   "metadata": {},
   "source": [
    "Primo integrale con errore dato da derivate parziali"
   ]
  },
  {
   "cell_type": "markdown",
   "id": "5ea6a53c-c8ee-4343-b11a-5c58ca9ee604",
   "metadata": {},
   "source": [
    "## First integral\n",
    "According to the study by **Aharonian et al. (2000)**, the differential flux of gamma rays in the range of $1-20 \\, \\text{TeV}$ is given by:\n",
    "\n",
    "$$\n",
    "\\frac{dJ_{\\gamma}}{dE} = (2.79 \\pm 0.02) \\times 10^{-7} \\left( \\frac{E}{1 \\, \\text{TeV}} \\right)^{(-2.59 \\pm 0.03)} \\, \\text{ph} \\, \\text{m}^{-2} \\, \\text{s}^{-1} \\, \\text{TeV}^{-1}\n",
    "$$\n",
    "$$\n",
    "\\frac{dJ_{\\gamma}}{dE} = c_1 \\cdot \\left( \\frac{E}{E_0} \\right)^{- \\alpha_1} \\, \\text{ph} \\, \\text{m}^{-2} \\, \\text{s}^{-1} \\, \\text{TeV}^{-1}\n",
    "$$\n",
    "with:\n",
    "$$\n",
    "c_1 = (2.79 \\pm 0.02) \\times 10^{-7}, E_0 = 1 \\, \\text{TeV}, \\alpha_1 = 2.59 \\pm 0.03\n",
    "$$\n",
    "so the integral will be:\n",
    "$$\n",
    "J_\\gamma = \\frac{E_0^{\\alpha_1} \\cdot c_1}{-\\alpha_1 + 1} \\cdot \\left( E_{\\text{max}}^{-\\alpha_1 + 1} - E_{\\text{min}}^{-\\alpha_1 + 1} \\right)\n",
    "$$\n",
    "with $E_{\\text{min}} = 0.05 \\, \\text{TeV}, E_{\\text{max}} = 50 \\, \\text{TeV} $"
   ]
  },
  {
   "cell_type": "markdown",
   "id": "4349d98a-d446-4f7d-930a-dec18d938c2d",
   "metadata": {},
   "source": [
    "### Error Propagation\n",
    "\n",
    "We have uncertainties in the following parameters:\n",
    "\n",
    "$$\n",
    "c_1 = (2.79 \\pm 0.02) \\times 10^{-7}\n",
    "$$\n",
    "$$\n",
    "\\alpha_1 = 2.59 \\pm 0.03\n",
    "$$\n",
    "\n",
    "Using the general error propagation formula the total uncertainty in R:\n",
    "\n",
    "$$\n",
    "\\sigma_R = \\sqrt{ \\left( \\frac{\\partial R}{\\partial c_1} \\sigma_{c_1} \\right)^2 + \\left( \\frac{\\partial R}{\\partial \\alpha_1} \\sigma_{\\alpha_1} \\right)^2 }\n",
    "$$\n",
    "\n",
    "The error for the time will be:\n",
    "$$\n",
    "\\sigma_t = t \\sqrt{ \\left( \\frac{\\sigma_{n_{\\gamma}}}{n_{\\gamma}} \\right)^2 + \\left( \\frac{\\sigma_R}{R} \\right)^2 }\n",
    "$$"
   ]
  },
  {
   "cell_type": "code",
   "execution_count": 18,
   "id": "24656d07-4435-42f9-bccd-4c3a7cdc70a5",
   "metadata": {},
   "outputs": [
    {
     "name": "stdout",
     "output_type": "stream",
     "text": [
      "t1 = 34.1 ± 2.4 minutes\n"
     ]
    }
   ],
   "source": [
    "import sympy as sp\n",
    "\n",
    "def uncertainty(A, E0, Emin, Emax, c1, c1_err, alpha1, alpha1_err):\n",
    "    #definisco i simboli\n",
    "    c1_sym, alpha1_sym, Emin_sym, Emax_sym, E0_sym, A_sym = sp.symbols('c1 alpha1 Emin Emax E0 A')\n",
    "    \n",
    "    #definizione di R \n",
    "    R = (A_sym * c1_sym * (E0_sym**alpha1_sym) / (-alpha1_sym + 1)) * (Emax_sym**(-alpha1_sym + 1) - Emin_sym**(-alpha1_sym + 1))\n",
    "\n",
    "    #calcolo le derivate parziali rispetto a c1 e alpha1\n",
    "    dR_dc1 = sp.diff(R, c1_sym)\n",
    "    dR_dalpha1 = sp.diff(R, alpha1_sym)\n",
    "    \n",
    "    #conversione a funzioni\n",
    "    dR_dc1_func = sp.lambdify((A_sym, E0_sym, Emin_sym, Emax_sym, c1_sym, alpha1_sym), dR_dc1, 'numpy')\n",
    "    dR_dalpha1_func = sp.lambdify((A_sym, E0_sym, Emin_sym, Emax_sym, c1_sym, alpha1_sym), dR_dalpha1, 'numpy')\n",
    "    \n",
    "    #calcolo il valore delle derivate e di R\n",
    "    dR_dc1_val = dR_dc1_func(A, E0, Emin, Emax, c1, alpha1)\n",
    "    dR_dalpha1_val = dR_dalpha1_func(A, E0, Emin, Emax, c1, alpha1)\n",
    "    R_val = (A * c1 * (E0**alpha1) / (-alpha1 + 1)) * (Emax**(-alpha1 + 1) - Emin**(-alpha1 + 1))\n",
    "    \n",
    "    #incertezza totale su R\n",
    "    sigma_R = np.sqrt((dR_dc1_val * c1_err) ** 2 + (dR_dalpha1_val * alpha1_err) ** 2)\n",
    "    \n",
    "    return R_val, sigma_R\n",
    "\n",
    "\n",
    "#valore dell'errore su R\n",
    "R_val, sigma_R = uncertainty(A, E0, Emin, Emax, c1, c1_err, alpha1, alpha1_err)\n",
    "t1 = (n_gamma / R_val) / 60\n",
    "sigma_t1 = t1 * (np.sqrt((sigma_n_gamma / n_gamma)**2 + (sigma_R/R_val)**2))\n",
    "\n",
    "print(f\"t1 = {t1:.1f} ± {sigma_t1:.1f} minutes\")"
   ]
  },
  {
   "cell_type": "markdown",
   "id": "0a1d2fdc-9b57-4c39-9c75-48d0002e22fa",
   "metadata": {},
   "source": [
    "## Second integral\n",
    "At low energies there is a slight flattening of the spectrum. A fit with a logarithmic steepening of the power law spectrum gives (according to the study by **Aharonian et al. (2000)**):\n",
    "$$\n",
    "\\frac{dJ_{\\gamma}}{dE} = (2.67 \\pm 0.01) \\times 10^{-7} \\left( \\frac{E}{1 \\, \\text{TeV}} \\right)^{(-2.47 \\pm 0.1) -(0.11 \\pm 0.1) \\, \\log(E)} \\, \\text{ph} \\, \\text{m}^{-2} \\, \\text{s}^{-1} \\, \\text{TeV}^{-1}\n",
    "$$\n",
    "$$\n",
    "\\frac{dJ_{\\gamma}}{dE} = c_2 \\cdot \\left( \\frac{E}{E_0} \\right)^{- \\alpha_2 + \\beta \\, \\log(E)} \\, \\text{ph} \\, \\text{m}^{-2} \\, \\text{s}^{-1} \\, \\text{TeV}^{-1}\n",
    "$$\n",
    "with:\n",
    "$$\n",
    "c_2 = (2.67 \\pm 0.01) \\times 10^{-7}, E_0 = 1 \\, \\text{TeV}, \\alpha_2 = 2.47 \\pm 0.1, \\beta = -0.11 \\pm 0.1\n",
    "$$\n",
    "Because of the logarithmic correction, it's impossible to integrate it analytically in a straightforward way. Hence, to calculate this integral, we use two numerical integration methods: Romberg integration and Simpson's Rule."
   ]
  },
  {
   "cell_type": "markdown",
   "id": "8dcf1254-a955-4556-8676-c9fb75789ffe",
   "metadata": {},
   "source": [
    "###  Romberg integration"
   ]
  },
  {
   "cell_type": "code",
   "execution_count": 19,
   "id": "fce8dc08-80b8-4db7-aec6-0eaf9a8c0af1",
   "metadata": {},
   "outputs": [
    {
     "name": "stdout",
     "output_type": "stream",
     "text": [
      "t = 84.64 +- 0.04 minutes\n"
     ]
    }
   ],
   "source": [
    "from scipy.integrate import romb\n",
    "\n",
    "E_values = np.linspace(Emin, Emax, 2**10+1)\n",
    "dE = np.abs(E_values[0] - E_values[1])\n",
    "\n",
    "def dJ_gamma2(E, c2, alpha2, beta):\n",
    "    return c2 * (E / E0) ** (-alpha2 - beta * np.log(E))\n",
    "\n",
    "J_gamma_values = dJ_gamma2(E_values, c2, alpha2, beta)\n",
    "J_gamma = romb(J_gamma_values, dx = dE)\n",
    "\n",
    "R = A * J_gamma\n",
    "\n",
    "def partial_derivatives2():\n",
    "    dJ_dc2 = J_gamma / c2\n",
    "    dJ_dalpha2 = -J_gamma * np.log(E_values / E0)\n",
    "    dJ_dalpha2 = romb(dJ_dalpha2, dx = dE)\n",
    "    dJ_dbeta = -J_gamma * np.log(E_values/E0) * np.log(E_values)\n",
    "    dJ_dbeta = romb(dJ_dbeta, dx = dE)\n",
    "\n",
    "    return dJ_dc2, dJ_dalpha2, dJ_dbeta\n",
    "\n",
    "dJ_dc2, dJ_dalpha2, dJ_dbeta = partial_derivatives2()\n",
    "\n",
    "sigma_J = np.sqrt(\n",
    "    (dJ_dc2 * c2_err) ** 2 +\n",
    "    (dJ_dalpha2 * alpha2_err) ** 2 +\n",
    "    (dJ_dbeta * beta_err) ** 2\n",
    ")\n",
    "\n",
    "sigma_R = sigma_J \n",
    "\n",
    "t = (n_gamma / R)/60\n",
    "sigma_t = t * (np.sqrt((sigma_n_gamma / n_gamma)**2 + (sigma_R/R)**2))\n",
    "print(f\"t = {t:.2f} +- {sigma_t:.2f} minutes\")"
   ]
  },
  {
   "cell_type": "markdown",
   "id": "8d237ca9-f704-4f39-b607-c43fa79971c6",
   "metadata": {},
   "source": [
    "#### using .quad"
   ]
  },
  {
   "cell_type": "code",
   "execution_count": 20,
   "id": "7b301164-1dfa-4e13-a709-03e08368541f",
   "metadata": {},
   "outputs": [
    {
     "name": "stdout",
     "output_type": "stream",
     "text": [
      "t2 = 69.91 +- 0.47 minutes\n"
     ]
    }
   ],
   "source": [
    "from scipy.integrate import quad\n",
    "\n",
    "#definisco l'integranda\n",
    "def dJ_gamma(E, c2, alpha2, beta):\n",
    "    return c2 * (E / E0) ** (-alpha2 - beta * np.log(E))\n",
    "\n",
    "#definisco R\n",
    "def R(c2, alpha2, beta):\n",
    "    integral, _ = quad(dJ_gamma, Emin, Emax, args=(c2, alpha2, beta))\n",
    "    return A * integral\n",
    "\n",
    "#Monte Carlo for the error\n",
    "N = 10000\n",
    "c2_mc = np.random.normal(c2, c2_err, N)\n",
    "alpha2_mc = np.random.normal(alpha2, alpha2_err, N)\n",
    "beta_mc = np.random.normal(beta, beta_err, N)\n",
    "\n",
    "R_mc = np.array([R(c2, alpha2, beta) for c2, alpha2, beta in zip(c2_mc, alpha2_mc, beta_mc)])\n",
    "\n",
    "#calcolo valor medio e errore di R\n",
    "R_mean = np.mean(R_mc)\n",
    "R_std = np.std(R_mc)/np.sqrt(N)\n",
    "\n",
    "#propago su t\n",
    "t2 = (n_gamma / R_mean)/60\n",
    "sigma_t2 = t2 * (np.sqrt((sigma_n_gamma / n_gamma)**2 + (R_std/R_mean)**2))\n",
    "\n",
    "print(f\"t2 = {t2:.2f} +- {sigma_t2:.2f} minutes\")"
   ]
  },
  {
   "cell_type": "markdown",
   "id": "3f4b2bb6-3884-4542-a1ca-7852bf11bbc3",
   "metadata": {},
   "source": [
    "### Simpson's Rule"
   ]
  },
  {
   "cell_type": "markdown",
   "id": "f1b1bce1-71a7-4202-8193-5bac174da625",
   "metadata": {},
   "source": [
    "The trapezoidal rule estimates the area under a curve by approximating the curve with straight-line segments. We can often get a\n",
    "better result if we approximate the function instead with curves of some kind, Simpson’s rule does exactly this, using quadratic curves."
   ]
  },
  {
   "cell_type": "code",
   "execution_count": 21,
   "id": "e5eb2c6d-6b6e-4cde-bd34-e4e2c2c2e290",
   "metadata": {},
   "outputs": [
    {
     "name": "stdout",
     "output_type": "stream",
     "text": [
      "t2 = 86.18 +- 0.04 minutes\n"
     ]
    }
   ],
   "source": [
    "import numpy as np\n",
    "from scipy.integrate import simpson\n",
    "\n",
    "n = int(10e5)\n",
    "E_values = np.linspace(Emin, Emax, n+1)\n",
    "\n",
    "def dJ_gamma2(E, c2, alpha2, beta):\n",
    "    return c2 * (E / E0) ** (-alpha2 - beta * np.log(E))\n",
    "\n",
    "J_gamma_values = dJ_gamma2(E_values, c2, alpha2, beta)\n",
    "J_gamma = simpson(J_gamma_values, E_values)\n",
    "\n",
    "R = A * J_gamma\n",
    "\n",
    "def partial_derivatives():\n",
    "    dJ_dc2 = J_gamma / c2\n",
    "    dJ_dalpha2 = -J_gamma * np.log(E_values / E0)\n",
    "    dJ_dalpha2 = simpson(dJ_dalpha2, E_values)\n",
    "    dJ_dbeta = -J_gamma * np.log(E_values/E0) * np.log(E_values)\n",
    "    dJ_dbeta = simpson(dJ_dbeta, E_values)\n",
    "\n",
    "    return dJ_dc2, dJ_dalpha2, dJ_dbeta\n",
    "\n",
    "dJ_dc2, dJ_dalpha2, dJ_dbeta = partial_derivatives()\n",
    "\n",
    "sigma_J = np.sqrt(\n",
    "    (dJ_dc2 * c2_err) ** 2 +\n",
    "    (dJ_dalpha2 * alpha2_err) ** 2 +\n",
    "    (dJ_dbeta * beta_err) ** 2\n",
    ")\n",
    "\n",
    "sigma_R = sigma_J\n",
    "\n",
    "t2_s = (n_gamma / R)/60\n",
    "sigma_t2_s = t2_s * (np.sqrt((sigma_n_gamma / n_gamma)**2 + (sigma_R/R)**2))\n",
    "\n",
    "print(f\"t2 = {t2_s:.2f} +- {sigma_t2_s:.2f} minutes\")"
   ]
  },
  {
   "cell_type": "markdown",
   "id": "fde68ca2-1f39-4bcb-82e4-6cab2138385f",
   "metadata": {},
   "source": [
    "### Monte Carlo"
   ]
  },
  {
   "cell_type": "code",
   "execution_count": 23,
   "id": "632cea56-541f-438d-b7bb-0cf00df736df",
   "metadata": {},
   "outputs": [
    {
     "name": "stdout",
     "output_type": "stream",
     "text": [
      "88.16204768668301 1.690997260143069\n"
     ]
    }
   ],
   "source": [
    "def dJ_gamma2(E, c2, alpha2, beta):\n",
    "    return c2 * (E / E0) ** (-alpha2 - beta * np.log(E))\n",
    "\n",
    "n = int(10e5)\n",
    "E_values = np.linspace(Emin, Emax, n+1)\n",
    "y_max= np.max(dJ_gamma2(E_values,c2,alpha2,beta)) \n",
    "\n",
    "\n",
    "# Monte Carlo integration\n",
    "N=1000000\n",
    "count=0\n",
    "f=[]\n",
    "for i in range(N):\n",
    "    x= np.random.uniform(Emin,Emax)\n",
    "    y= np.random.uniform(0,y_max+10**(-4))\n",
    "    if y<dJ_gamma2(x, c2, alpha2, beta): count+=1\n",
    "    f.append(dJ_gamma2(x, c2, alpha2, beta))\n",
    "I=(Emax-Emin)*(y_max+10**(-4))*count/N\n",
    "sigma_f = np.std(f)\n",
    "sigma_I= (Emax-Emin)*sigma_f/N**(0.5)\n",
    "T=n_gamma/(A*I)/60\n",
    "sigma=T*np.sqrt((sigma_n_gamma/n_gamma)**2+(sigma_I/I)**2)\n",
    "print(T, sigma)"
   ]
  },
  {
   "cell_type": "markdown",
   "id": "347418ad-52bf-4688-97a3-77fc967bf15e",
   "metadata": {},
   "source": [
    "# Part 8: Do the same using the MAGIC measured spectrum of the Crab Nebula [Aleksic, J. et al. 2015]"
   ]
  },
  {
   "cell_type": "code",
   "execution_count": 24,
   "id": "4934cce3-85a8-44b9-b426-7304ae167f41",
   "metadata": {},
   "outputs": [],
   "source": [
    "# Constants\n",
    "A = 10**9 * 1e-4  # collection area in m^2\n",
    "E0 = 1.0  # TeV\n",
    "Emin = 0.05  # TeV = 50 GeV\n",
    "Emax = 50  # TeV\n",
    "n_gamma, sigma_n_gamma = 4199, 0.4 \n",
    "\n",
    "# Constants for the first integral\n",
    "f0, f0_err = 3.80e-11, 0.11e-11\n",
    "alpha, alpha_err = 2.21, 0.02\n",
    "Ec, Ec_err = 6.0, 0.6\n",
    "\n",
    "# Constants for the second integral\n",
    "f02, f02_err = 3.23e-11, 0.03e-11\n",
    "alpha2, alpha2_err = 2.47, 0.01\n",
    "beta2, beta2_err = -0.24, 0.01"
   ]
  },
  {
   "cell_type": "markdown",
   "id": "587a21b7-6516-48c8-bc8e-83a8fb95b30b",
   "metadata": {},
   "source": [
    "power law with an exponential cut off:\n",
    "$$\n",
    "\\frac{dJ_{\\gamma}}{dE} = f_0 \\cdot \\left( \\frac{E}{E_0} \\right)^{- \\alpha} e^{-E/E_C} \\, \\text{ph} \\, \\text{m}^{-2} \\, \\text{s}^{-1} \\, \\text{TeV}^{-1}\n",
    "$$\n",
    "$$\n",
    "f_0 = (3.80 \\pm 0.11) \\times 10^{-11} \\, \\text{TeV}^{-1} \\, \\text{cm}^{-2} \\, \\text{s}^{-1}, \\alpha = 2.21 \\pm 0.02, E_C = (6.0 \\pm 0.6) \\, \\text{TeV}, E_0 = 1 \\, \\text{TeV}\n",
    "$$"
   ]
  },
  {
   "cell_type": "code",
   "execution_count": 25,
   "id": "7ef20850-8187-43ac-a0d7-c3e78baf1960",
   "metadata": {
    "scrolled": true
   },
   "outputs": [
    {
     "name": "stdout",
     "output_type": "stream",
     "text": [
      "inf inf\n"
     ]
    },
    {
     "name": "stderr",
     "output_type": "stream",
     "text": [
      "C:\\Users\\sofia\\AppData\\Local\\Temp\\ipykernel_27024\\677154961.py:21: RuntimeWarning: divide by zero encountered in scalar divide\n",
      "  t=n_gamma/(A*I)/60\n",
      "C:\\Users\\sofia\\AppData\\Local\\Temp\\ipykernel_27024\\677154961.py:22: RuntimeWarning: divide by zero encountered in scalar divide\n",
      "  sigma=t*np.sqrt((sigma_n_gamma/n_gamma)**2+(sigma_I/I)**2)\n"
     ]
    }
   ],
   "source": [
    "def dJ_gamma(E, f0, alpha, Ec):\n",
    "    return f0 * (E / E0) ** (-alpha) * np.exp(-E / Ec)\n",
    "\n",
    "n = int(10e5)\n",
    "E_values = np.linspace(Emin, Emax, n+1)\n",
    "y_max= np.max(dJ_gamma(E_values, f0, alpha, Ec)) \n",
    "\n",
    "\n",
    "# Monte Carlo integration\n",
    "N=100000\n",
    "count=0\n",
    "f=[]\n",
    "for i in range(N):\n",
    "    x= np.random.uniform(Emin,Emax)\n",
    "    y= np.random.uniform(0,y_max+10**(-4))\n",
    "    if y < dJ_gamma(x, f0, alpha, Ec): count+=1\n",
    "    f.append(dJ_gamma(x, f0, alpha, Ec))\n",
    "I=(Emax-Emin)*(y_max+10**(-4))*count/N\n",
    "sigma_f = np.std(f)\n",
    "sigma_I= (Emax-Emin)*sigma_f/N**(0.5)\n",
    "t=n_gamma/(A*I)/60\n",
    "sigma=t*np.sqrt((sigma_n_gamma/n_gamma)**2+(sigma_I/I)**2)\n",
    "print(t, sigma)"
   ]
  },
  {
   "cell_type": "markdown",
   "id": "f2611c9d-cc0c-482f-ab03-bdb3bb76b73c",
   "metadata": {},
   "source": [
    "## Second integral (Log-parabola)"
   ]
  },
  {
   "cell_type": "markdown",
   "id": "c54380fd-7c11-4583-a4e3-563f8ff47c6c",
   "metadata": {},
   "source": [
    "$$\n",
    "\\frac{dJ_{\\gamma}}{dE} = f_0 \\cdot \\left( \\frac{E}{E_0} \\right)^{- \\alpha + \\beta \\, \\log(E / E_0)} \\, \\text{ph} \\, \\text{m}^{-2} \\, \\text{s}^{-1} \\, \\text{TeV}^{-1}\n",
    "$$\n",
    "$$\n",
    "f_0 = (3.23 \\pm 0.03) \\times 10^{-11} \\, \\text{TeV}^{-1} \\, \\text{cm}^{-2} \\, \\text{s}^{-1}, \\alpha = 2.47 \\pm 0.01, \\beta = -0.24 \\pm 0.01, E_0 = 1 \\, \\text{TeV}\n",
    "$$"
   ]
  },
  {
   "cell_type": "markdown",
   "id": "67d3703d-a7f6-4539-9575-988d12ed10e0",
   "metadata": {},
   "source": [
    "### Simpson's Rule"
   ]
  },
  {
   "cell_type": "markdown",
   "id": "e118e8fd-6e82-4e66-954c-309c7a747a08",
   "metadata": {},
   "source": [
    "The trapezoidal rule estimates the area under a curve by approximating the curve with straight-line segments. We can often get a\n",
    "better result if we approximate the function instead with curves of some kind, Simpson’s rule does exactly this, using quadratic curves."
   ]
  },
  {
   "cell_type": "code",
   "execution_count": null,
   "id": "6a785f93-0be6-48af-91f5-1d1f066df49e",
   "metadata": {},
   "outputs": [],
   "source": []
  }
 ],
 "metadata": {
  "kernelspec": {
   "display_name": "Python 3 (ipykernel)",
   "language": "python",
   "name": "python3"
  },
  "language_info": {
   "codemirror_mode": {
    "name": "ipython",
    "version": 3
   },
   "file_extension": ".py",
   "mimetype": "text/x-python",
   "name": "python",
   "nbconvert_exporter": "python",
   "pygments_lexer": "ipython3",
   "version": "3.13.1"
  }
 },
 "nbformat": 4,
 "nbformat_minor": 5
}
