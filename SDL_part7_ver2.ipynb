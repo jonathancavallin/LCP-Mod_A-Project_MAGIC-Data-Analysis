{
 "cells": [
  {
   "cell_type": "markdown",
   "id": "a18d396b",
   "metadata": {},
   "source": [
    "# LCP Project: analysis of MAGIC04 dataset\n",
    "First, we import the libraries"
   ]
  },
  {
   "cell_type": "code",
   "execution_count": 53,
   "id": "dc056d9e",
   "metadata": {},
   "outputs": [],
   "source": [
    "import numpy as np\n",
    "import uncertainties as un\n",
    "import matplotlib.pyplot as plt\n",
    "\n",
    "import sympy as sp\n",
    "from scipy.integrate import romb\n",
    "from scipy.integrate import simpson"
   ]
  },
  {
   "cell_type": "markdown",
   "id": "7dc675a7-d5f9-4850-b511-b4fa218e799f",
   "metadata": {},
   "source": [
    "# Part 7: Calculation of the observation time\n",
    "Assuming that the telescope has a collection area of 10^9 cm^2 and that we are observing gamma rays between 50 GeV and 50 TeV, to what observation time does this measurement corresponds? (assume here the Crab spectrum measured by HEGRA [Aharonian, F. et al. 2000])"
   ]
  },
  {
   "cell_type": "markdown",
   "id": "3dfc2069-9f04-403a-8a2f-12d6e608c142",
   "metadata": {},
   "source": [
    "To calculate the observation time corresponding to the Cherenkov telescope measurement, we use the Crab Nebula spectrum measured by HEGRA. Then, converting the telescope's collection area to square meters ( $A = 10^9 \\, \\text{cm}^2 $), we can determine\n",
    "the event rate by integrating the flux over the energy range from **50 GeV to 50 TeV**:\n",
    "\n",
    "$$\n",
    "R = A \\cdot J_{\\gamma} =  A \\int_{0.05 \\, TeV}^{50 \\, TeV} \\frac{dJ_{\\gamma}}{dE} dE\n",
    "$$\n",
    "\n",
    "This integration provides the **event rate in photons per second**. Given the total number of recorded events $n_\\gamma$, we can then calculate the **observation time** by dividing the number of events by the event rate:\n",
    "\n",
    "$$\n",
    "\\Delta t = \\frac{n_{\\gamma}}{R}\n",
    "$$"
   ]
  },
  {
   "cell_type": "code",
   "execution_count": 54,
   "id": "a5cc8e16-5041-4845-a9dc-4d32e0c19cb3",
   "metadata": {},
   "outputs": [],
   "source": [
    "# Constants\n",
    "A = 10**9 * 1e-4  # collection area in m^2\n",
    "E0 = 1.0          # TeV\n",
    "Emin = 0.05       # TeV = 50 GeV\n",
    "Emax = 50         # TeV\n",
    "n_gamma, sigma_n_gamma =  4431, 43    # number of true gamma events\n",
    "\n",
    "# Constants for the first integral\n",
    "alpha1, alpha1_err = 2.59, 0.03\n",
    "c1, c1_err = 2.79e-7, 0.02e-7\n",
    "\n",
    "# Constants for the second integral\n",
    "c2, c2_err = 2.67e-7, 0.01e-7\n",
    "alpha2, alpha2_err = 2.47, 0.1\n",
    "beta, beta_err = -0.11, 0.1"
   ]
  },
  {
   "cell_type": "markdown",
   "id": "f035ee9a-9159-4967-9e24-46d587db5d43",
   "metadata": {},
   "source": [
    "Primo integrale con errore dato da derivate parziali"
   ]
  },
  {
   "cell_type": "markdown",
   "id": "5ea6a53c-c8ee-4343-b11a-5c58ca9ee604",
   "metadata": {},
   "source": [
    "## First integral\n",
    "According to the study by **Aharonian et al. (2000)**, the differential flux of gamma rays in the range of $1-20 \\, \\text{TeV}$ is given by:\n",
    "\n",
    "$$\n",
    "\\frac{dJ_{\\gamma}}{dE} = (2.79 \\pm 0.02) \\times 10^{-7} \\left( \\frac{E}{1 \\, \\text{TeV}} \\right)^{(-2.59 \\pm 0.03)} \\, \\text{ph} \\, \\text{m}^{-2} \\, \\text{s}^{-1} \\, \\text{TeV}^{-1}\n",
    "$$\n",
    "$$\n",
    "\\frac{dJ_{\\gamma}}{dE} = c_1 \\cdot \\left( \\frac{E}{E_0} \\right)^{- \\alpha_1} \\, \\text{ph} \\, \\text{m}^{-2} \\, \\text{s}^{-1} \\, \\text{TeV}^{-1}\n",
    "$$\n",
    "with:\n",
    "$$\n",
    "c_1 = (2.79 \\pm 0.02) \\times 10^{-7} \\, \\text{TeV}^{-1} \\, \\text{m}^{-2} \\, \\text{s}^{-1}, E_0 = 1 \\, \\text{TeV}, \\alpha_1 = 2.59 \\pm 0.03\n",
    "$$\n",
    "so the integral will be:\n",
    "$$\n",
    "J_\\gamma = \\frac{E_0^{\\alpha_1} \\cdot c_1}{-\\alpha_1 + 1} \\cdot \\left( E_{\\text{max}}^{-\\alpha_1 + 1} - E_{\\text{min}}^{-\\alpha_1 + 1} \\right)\n",
    "$$\n",
    "with $E_{\\text{min}} = 0.05 \\, \\text{TeV}, E_{\\text{max}} = 50 \\, \\text{TeV} $"
   ]
  },
  {
   "cell_type": "markdown",
   "id": "4349d98a-d446-4f7d-930a-dec18d938c2d",
   "metadata": {},
   "source": [
    "### Error Propagation\n",
    "\n",
    "We have uncertainties in the following parameters:\n",
    "\n",
    "$$\n",
    "c_1 = (2.79 \\pm 0.02) \\times 10^{-7}\n",
    "$$\n",
    "$$\n",
    "\\alpha_1 = 2.59 \\pm 0.03\n",
    "$$\n",
    "\n",
    "Using the general error propagation formula the total uncertainty in R:\n",
    "\n",
    "$$\n",
    "\\sigma_R = \\sqrt{ \\left( \\frac{\\partial R}{\\partial c_1} \\sigma_{c_1} \\right)^2 + \\left( \\frac{\\partial R}{\\partial \\alpha_1} \\sigma_{\\alpha_1} \\right)^2 }\n",
    "$$\n",
    "\n",
    "The error for the time will be:\n",
    "$$\n",
    "\\sigma_t = t \\sqrt{ \\left( \\frac{\\sigma_{n_{\\gamma}}}{n_{\\gamma}} \\right)^2 + \\left( \\frac{\\sigma_R}{R} \\right)^2 }\n",
    "$$"
   ]
  },
  {
   "cell_type": "code",
   "execution_count": 55,
   "id": "24656d07-4435-42f9-bccd-4c3a7cdc70a5",
   "metadata": {},
   "outputs": [
    {
     "name": "stdout",
     "output_type": "stream",
     "text": [
      "HEGRA with Power law\n",
      "t1_H = 35.9 ± 2.6 minutes\n"
     ]
    }
   ],
   "source": [
    "def dJ_H(E, c1, alpha1):\n",
    "    return c1 * np.power((E / E0), - alpha1)\n",
    "\n",
    "def uncertainty(A, E0, Emin, Emax, c1, c1_err, alpha1, alpha1_err):\n",
    "    #definisco i simboli\n",
    "    c1_sym, alpha1_sym, Emin_sym, Emax_sym, E0_sym, A_sym = sp.symbols('c1 alpha1 Emin Emax E0 A')\n",
    "    \n",
    "    #definizione di R \n",
    "    R = (A_sym * c1_sym * (E0_sym**alpha1_sym) / (-alpha1_sym + 1)) * (Emax_sym**(-alpha1_sym + 1) - Emin_sym**(-alpha1_sym + 1))\n",
    "\n",
    "    #calcolo le derivate parziali rispetto a c1 e alpha1\n",
    "    dR_dc1 = sp.diff(R, c1_sym)\n",
    "    dR_dalpha1 = sp.diff(R, alpha1_sym)\n",
    "    \n",
    "    #conversione a funzioni\n",
    "    dR_dc1_func = sp.lambdify((A_sym, E0_sym, Emin_sym, Emax_sym, c1_sym, alpha1_sym), dR_dc1, 'numpy')\n",
    "    dR_dalpha1_func = sp.lambdify((A_sym, E0_sym, Emin_sym, Emax_sym, c1_sym, alpha1_sym), dR_dalpha1, 'numpy')\n",
    "    \n",
    "    #calcolo il valore delle derivate e di R\n",
    "    dR_dc1_val = dR_dc1_func(A, E0, Emin, Emax, c1, alpha1)\n",
    "    dR_dalpha1_val = dR_dalpha1_func(A, E0, Emin, Emax, c1, alpha1)\n",
    "    R_val = (A * c1 * (E0**alpha1) / (-alpha1 + 1)) * (Emax**(-alpha1 + 1) - Emin**(-alpha1 + 1))\n",
    "    \n",
    "    #incertezza totale su R\n",
    "    sigma_R = np.sqrt((dR_dc1_val * c1_err) ** 2 + (dR_dalpha1_val * alpha1_err) ** 2)\n",
    "    \n",
    "    return R_val, sigma_R\n",
    "\n",
    "\n",
    "#valore dell'errore su R\n",
    "R_val, sigma_R = uncertainty(A, E0, Emin, Emax, c1, c1_err, alpha1, alpha1_err)\n",
    "t1_H = (n_gamma / R_val) / 60\n",
    "sigma_t1_H = t1_H * (np.sqrt((sigma_n_gamma / n_gamma)**2 + (sigma_R/R_val)**2))\n",
    "\n",
    "print(\"HEGRA with Power law\")\n",
    "print(f\"t1_H = {t1_H:.1f} ± {sigma_t1_H:.1f} minutes\")"
   ]
  },
  {
   "cell_type": "markdown",
   "id": "0a1d2fdc-9b57-4c39-9c75-48d0002e22fa",
   "metadata": {},
   "source": [
    "## Second integral\n",
    "At low energies there is a slight flattening of the spectrum. A fit with a logarithmic steepening of the power law spectrum gives (according to the study by **Aharonian et al. (2000)**):\n",
    "$$\n",
    "\\frac{dJ_{\\gamma}}{dE} = (2.67 \\pm 0.01) \\times 10^{-7} \\left( \\frac{E}{1 \\, \\text{TeV}} \\right)^{(-2.47 \\pm 0.1) -(0.11 \\pm 0.1) \\, \\log(E/E_0)} \\, \\text{ph} \\, \\text{m}^{-2} \\, \\text{s}^{-1} \\, \\text{TeV}^{-1}\n",
    "$$\n",
    "$$\n",
    "\\frac{dJ_{\\gamma}}{dE} = c_2 \\cdot \\left( \\frac{E}{E_0} \\right)^{- \\alpha_2 + \\beta \\, \\log(E/E_0)} \\, \\text{ph} \\, \\text{m}^{-2} \\, \\text{s}^{-1} \\, \\text{TeV}^{-1}\n",
    "$$\n",
    "with:\n",
    "$$\n",
    "c_2 = (2.67 \\pm 0.01) \\times 10^{-7} \\, \\text{TeV}^{-1} \\, \\text{m}^{-2} \\, \\text{s}^{-1}, E_0 = 1 \\, \\text{TeV}, \\alpha_2 = 2.47 \\pm 0.1, \\beta = -0.11 \\pm 0.1\n",
    "$$\n",
    "Because of the logarithmic correction, it's impossible to integrate it analytically in a straightforward way. Hence, to calculate this integral, we use two numerical integration methods: Romberg integration and Simpson's Rule."
   ]
  },
  {
   "cell_type": "markdown",
   "id": "8dcf1254-a955-4556-8676-c9fb75789ffe",
   "metadata": {
    "jp-MarkdownHeadingCollapsed": true
   },
   "source": [
    "###  Romberg integration"
   ]
  },
  {
   "cell_type": "code",
   "execution_count": 4,
   "id": "fce8dc08-80b8-4db7-aec6-0eaf9a8c0af1",
   "metadata": {},
   "outputs": [
    {
     "name": "stdout",
     "output_type": "stream",
     "text": [
      "HEGRA with Log-parabola fit using Romberg integration\n",
      "t2_Romb_H = 89.31 +- 51.33 minutes\n"
     ]
    }
   ],
   "source": [
    "E_values = np.linspace(Emin, Emax, 2**10+1)\n",
    "dE = np.abs(E_values[0] - E_values[1])\n",
    "\n",
    "def dJ_Romb_H(E, c2, alpha2, beta):\n",
    "    return c2 * (E / E0) ** (-alpha2 + beta * np.log(E / E0))\n",
    "\n",
    "J_gamma_values = dJ_Romb_H(E_values, c2, alpha2, beta)\n",
    "J_gamma = romb(J_gamma_values, dx = dE)\n",
    "\n",
    "R = A * J_gamma\n",
    "\n",
    "def partial_derivatives2():\n",
    "    dJ_dc2_values = dJ_Romb_H(E_values, c2, alpha2, beta) / c2\n",
    "    dJ_dc2 = romb(dJ_dc2_values, dx=dE)\n",
    "    \n",
    "    dJ_dalpha2_values = -dJ_Romb_H(E_values, c2, alpha2, beta) * np.log(E_values / E0)\n",
    "    dJ_dalpha2 = romb(dJ_dalpha2_values, dx=dE)\n",
    "\n",
    "    dJ_dbeta_values = -dJ_Romb_H(E_values, c2, alpha2, beta) * (np.log(E_values / E0))**2\n",
    "    dJ_dbeta = romb(dJ_dbeta_values, dx=dE)\n",
    "\n",
    "    return dJ_dc2, dJ_dalpha2, dJ_dbeta\n",
    "\n",
    "dJ_dc2, dJ_dalpha2, dJ_dbeta = partial_derivatives2()\n",
    "\n",
    "sigma_J = np.sqrt(\n",
    "    (dJ_dc2 * c2_err) ** 2 +\n",
    "    (dJ_dalpha2 * alpha2_err) ** 2 +\n",
    "    (dJ_dbeta * beta_err) ** 2\n",
    ")\n",
    "\n",
    "sigma_R = A * sigma_J\n",
    "\n",
    "t2_Romb_H = (n_gamma / R)\n",
    "sigma_t2_Romb_H = t2_Romb_H * (np.sqrt((sigma_n_gamma / n_gamma)**2 + (sigma_R/R)**2))\n",
    "\n",
    "print(\"HEGRA with Log-parabola fit using Romberg integration\")\n",
    "print(f\"t2_Romb_H = {t2_Romb_H/60:.2f} +- {sigma_t2_Romb_H/60:.2f} minutes\")"
   ]
  },
  {
   "cell_type": "markdown",
   "id": "ec391e87-2d1f-4490-9eca-ed459af9f875",
   "metadata": {
    "jp-MarkdownHeadingCollapsed": true
   },
   "source": [
    "#### Romberg with Monte Carlo error - non lo mettiamo"
   ]
  },
  {
   "cell_type": "code",
   "execution_count": 5,
   "id": "bc09d227-796f-47d9-aa9e-875517fd4bdd",
   "metadata": {},
   "outputs": [
    {
     "name": "stdout",
     "output_type": "stream",
     "text": [
      "t2 = 70.37 +- 53.32 minutes\n"
     ]
    }
   ],
   "source": [
    "# Monte Carlo error\n",
    "\n",
    "E_values = np.linspace(Emin, Emax, 2**10+1)\n",
    "dE = np.abs(E_values[0] - E_values[1])\n",
    "\n",
    "def dJ_gamma2(E, c2, alpha2, beta):\n",
    "    return c2 * (E / E0) ** (-alpha2 + beta * np.log(E))\n",
    "\n",
    "def R(c2, alpha2, beta):\n",
    "    J_gamma_values = dJ_gamma2(E_values, c2, alpha2, beta)\n",
    "    J_gamma = romb(J_gamma_values, dx = dE)\n",
    "    return A * J_gamma\n",
    "\n",
    "N = 10000\n",
    "c2_mc = np.random.normal(c2, c2_err, N)\n",
    "alpha2_mc = np.random.normal(alpha2, alpha2_err, N)\n",
    "beta_mc = np.random.normal(beta, beta_err, N)\n",
    "\n",
    "R_mc = np.array([R(c2, alpha2, beta) for c2, alpha2, beta in zip(c2_mc, alpha2_mc, beta_mc)])\n",
    "\n",
    "#calcolo valor medio e errore di R\n",
    "R_mean = np.mean(R_mc)\n",
    "R_std = np.std(R_mc)  #std di R (distribuzione), non R_medio, quindi non va np.sqrt(N)\n",
    "\n",
    "#propago su t\n",
    "t2 = (n_gamma / R_mean)/60\n",
    "sigma_t2 = t2 * (np.sqrt((sigma_n_gamma / n_gamma)**2 + (R_std/R_mean)**2))\n",
    "\n",
    "print(f\"t2 = {t2:.2f} +- {sigma_t2:.2f} minutes\")"
   ]
  },
  {
   "cell_type": "markdown",
   "id": "8d237ca9-f704-4f39-b607-c43fa79971c6",
   "metadata": {
    "jp-MarkdownHeadingCollapsed": true
   },
   "source": [
    "#### using .quad - non lo mettiamo"
   ]
  },
  {
   "cell_type": "code",
   "execution_count": 6,
   "id": "7b301164-1dfa-4e13-a709-03e08368541f",
   "metadata": {},
   "outputs": [
    {
     "name": "stdout",
     "output_type": "stream",
     "text": [
      "t2 = 75.03 +- 49.75 minutes\n"
     ]
    }
   ],
   "source": [
    "from scipy.integrate import quad\n",
    "\n",
    "#definisco l'integranda\n",
    "def dJ_gamma(E, c2, alpha2, beta):\n",
    "    return c2 * (E / E0) ** (-alpha2 + beta * np.log(E))\n",
    "\n",
    "#definisco R\n",
    "def R(c2, alpha2, beta):\n",
    "    integral, _ = quad(dJ_gamma, Emin, Emax, args=(c2, alpha2, beta))\n",
    "    return A * integral\n",
    "\n",
    "#Monte Carlo for the error\n",
    "N = 10000\n",
    "c2_mc = np.random.normal(c2, c2_err, N)\n",
    "alpha2_mc = np.random.normal(alpha2, alpha2_err, N)\n",
    "beta_mc = np.random.normal(beta, beta_err, N)\n",
    "\n",
    "R_mc = np.array([R(c2, alpha2, beta) for c2, alpha2, beta in zip(c2_mc, alpha2_mc, beta_mc)])\n",
    "\n",
    "#calcolo valor medio e errore di R\n",
    "R_mean = np.mean(R_mc)\n",
    "R_std = np.std(R_mc)\n",
    "\n",
    "#propago su t\n",
    "t2 = (n_gamma / R_mean)/60\n",
    "sigma_t2 = t2 * (np.sqrt((sigma_n_gamma / n_gamma)**2 + (R_std/R_mean)**2))\n",
    "\n",
    "print(f\"t2 = {t2:.2f} +- {sigma_t2:.2f} minutes\")"
   ]
  },
  {
   "cell_type": "markdown",
   "id": "3f4b2bb6-3884-4542-a1ca-7852bf11bbc3",
   "metadata": {
    "jp-MarkdownHeadingCollapsed": true
   },
   "source": [
    "### Simpson's Rule"
   ]
  },
  {
   "cell_type": "markdown",
   "id": "f1b1bce1-71a7-4202-8193-5bac174da625",
   "metadata": {},
   "source": [
    "The trapezoidal rule estimates the area under a curve by approximating the curve with straight-line segments. We can often get a\n",
    "better result if we approximate the function instead with curves of some kind, Simpson’s rule does exactly this, using quadratic curves."
   ]
  },
  {
   "cell_type": "code",
   "execution_count": 7,
   "id": "e5eb2c6d-6b6e-4cde-bd34-e4e2c2c2e290",
   "metadata": {},
   "outputs": [
    {
     "name": "stdout",
     "output_type": "stream",
     "text": [
      "HEGRA with Log-parabola fit using Simpson's Rule\n",
      "t2_Simp_H = 90.94 +- 50.54 minutes\n"
     ]
    }
   ],
   "source": [
    "n = int(10e6)\n",
    "E_values = np.linspace(Emin, Emax, n+1)\n",
    "\n",
    "def dJ_Simp_H(E, c2, alpha2, beta):\n",
    "    return c2 * (E / E0) ** (-alpha2 + beta * np.log(E))\n",
    "\n",
    "J_gamma_values = dJ_Simp_H(E_values, c2, alpha2, beta)\n",
    "J_gamma = simpson(J_gamma_values, E_values)\n",
    "\n",
    "R = A * J_gamma\n",
    "\n",
    "def partial_derivatives():\n",
    "    dJ_dc2_values = dJ_Simp_H(E_values, c2, alpha2, beta)  / c2\n",
    "    dJ_dc2 = simpson(dJ_dc2_values, E_values)\n",
    "    \n",
    "    dJ_dalpha2_values = - dJ_Simp_H(E_values, c2, alpha2, beta) * np.log(E_values / E0)\n",
    "    dJ_dalpha2 = simpson(dJ_dalpha2_values, E_values)\n",
    "    \n",
    "    dJ_dbeta_values = -dJ_Simp_H(E_values, c2, alpha2, beta) * np.log(E_values/E0) * np.log(E_values)\n",
    "    dJ_dbeta = simpson(dJ_dbeta_values, E_values)\n",
    "\n",
    "    return dJ_dc2, dJ_dalpha2, dJ_dbeta\n",
    "\n",
    "dJ_dc2, dJ_dalpha2, dJ_dbeta = partial_derivatives()\n",
    "\n",
    "sigma_J = np.sqrt(\n",
    "    (dJ_dc2 * c2_err) ** 2 +\n",
    "    (dJ_dalpha2 * alpha2_err) ** 2 +\n",
    "    (dJ_dbeta * beta_err) ** 2\n",
    ")\n",
    "\n",
    "sigma_R = R * (sigma_J / J_gamma)\n",
    "\n",
    "t2_Simp_H = (n_gamma / R) /60\n",
    "sigma_t2_Simp_H = t2_Simp_H * (np.sqrt((sigma_n_gamma / n_gamma)**2 + (sigma_R/R)**2))\n",
    "\n",
    "print(\"HEGRA with Log-parabola fit using Simpson's Rule\")\n",
    "print(f\"t2_Simp_H = {t2_Simp_H:.2f} +- {sigma_t2_Simp_H:.2f} minutes\")"
   ]
  },
  {
   "cell_type": "markdown",
   "id": "8dfaeeeb-b259-4d72-a54f-e263c573cef1",
   "metadata": {
    "jp-MarkdownHeadingCollapsed": true
   },
   "source": [
    "#### Simpson with Monte Carlo error - non lo mettiamo"
   ]
  },
  {
   "cell_type": "code",
   "execution_count": 8,
   "id": "c3d46385-8aa3-40a2-89fb-fc6f0dcf8f07",
   "metadata": {},
   "outputs": [
    {
     "name": "stdout",
     "output_type": "stream",
     "text": [
      "t2 = 74.41 +- 43.57 minutes\n"
     ]
    }
   ],
   "source": [
    "# Monte Carlo error\n",
    "n = int(10e5)\n",
    "E_values = np.linspace(Emin, Emax, n+1)\n",
    "\n",
    "def dJ_gamma2(E, c2, alpha2, beta):\n",
    "    return c2 * (E / E0) ** (-alpha2 + beta * np.log(E))\n",
    "\n",
    "def R(c2, alpha2, beta):\n",
    "    J_gamma_values = dJ_gamma2(E_values, c2, alpha2, beta)\n",
    "    J_gamma = simpson(J_gamma_values, E_values)\n",
    "    return A * J_gamma\n",
    "\n",
    "N = 100\n",
    "c2_mc = np.random.normal(c2, c2_err, N)\n",
    "alpha2_mc = np.random.normal(alpha2, alpha2_err, N)\n",
    "beta_mc = np.random.normal(beta, beta_err, N)\n",
    "\n",
    "R_mc = np.array([R(c2, alpha2, beta) for c2, alpha2, beta in zip(c2_mc, alpha2_mc, beta_mc)])\n",
    "\n",
    "#calcolo valor medio e errore di R\n",
    "R_mean = np.mean(R_mc)\n",
    "R_std = np.std(R_mc)  #std di R (distribuzione), non R_medio, quindi non va np.sqrt(N)\n",
    "\n",
    "#propago su t\n",
    "t2 = (n_gamma / R_mean)/60\n",
    "sigma_t2 = t2 * (np.sqrt((sigma_n_gamma / n_gamma)**2 + (R_std/R_mean)**2))\n",
    "\n",
    "print(f\"t2 = {t2:.2f} +- {sigma_t2:.2f} minutes\")"
   ]
  },
  {
   "cell_type": "markdown",
   "id": "fde68ca2-1f39-4bcb-82e4-6cab2138385f",
   "metadata": {},
   "source": [
    "### Monte Carlo"
   ]
  },
  {
   "cell_type": "code",
   "execution_count": 56,
   "id": "67fa2ef3-a259-443c-bc53-08b29c8a9a68",
   "metadata": {},
   "outputs": [
    {
     "name": "stdout",
     "output_type": "stream",
     "text": [
      "HEGRA with Log-parabola fit using Monte Carlo\n",
      "t2_MC_H = 90.63 ± 1.26 minutes\n"
     ]
    }
   ],
   "source": [
    "import numpy as np\n",
    "\n",
    "# Function definition\n",
    "def dJ_MC_H(E, c2, alpha2, beta):\n",
    "    return c2 * (E / E0) ** (-alpha2 + beta * np.log(E))\n",
    "\n",
    "\n",
    "n = int(10e5)\n",
    "E_values = np.linspace(Emin, Emax, n+1)\n",
    "y_max = np.max(dJ_MC_H(E_values, c2, alpha2, beta))\n",
    "\n",
    "\n",
    "N = int(10e6)\n",
    "E_samples = np.random.uniform(Emin, Emax, N)\n",
    "y_samples = np.random.uniform(0, y_max, N)\n",
    "f_values = dJ_MC_H(E_samples, c2, alpha2, beta)\n",
    "\n",
    "count = np.sum(y_samples < f_values)\n",
    "I = (Emax - Emin) * y_max * (count / N)\n",
    "\n",
    "p = count / N\n",
    "sigma_I = I * np.sqrt((1 - p) / (p * N))  #binomial proportion error\n",
    "\n",
    "t2_MC_H = n_gamma / (A * I) / 60\n",
    "sigma_t2_MC_H = t2_MC_H * np.sqrt((sigma_n_gamma / n_gamma) ** 2 + (sigma_I / I) ** 2)\n",
    "\n",
    "print(\"HEGRA with Log-parabola fit using Monte Carlo\")\n",
    "print(f\"t2_MC_H = {t2_MC_H:.2f} ± {sigma_t2_MC_H:.2f} minutes\")"
   ]
  },
  {
   "cell_type": "markdown",
   "id": "347418ad-52bf-4688-97a3-77fc967bf15e",
   "metadata": {},
   "source": [
    "# Part 8: Do the same using the MAGIC measured spectrum of the Crab Nebula [Aleksic, J. et al. 2015]"
   ]
  },
  {
   "cell_type": "code",
   "execution_count": 10,
   "id": "4934cce3-85a8-44b9-b426-7304ae167f41",
   "metadata": {},
   "outputs": [],
   "source": [
    "# Constants\n",
    "A = 10**9 # collection area in cm^2\n",
    "E0 = 1.0  # TeV\n",
    "Emin = 0.05  # TeV = 50 GeV\n",
    "Emax = 50  # TeV\n",
    "n_gamma, sigma_n_gamma = 4431, 43\n",
    "\n",
    "# Constants for the first integral\n",
    "f0, f0_err = 3.80e-11, 0.11e-11\n",
    "alpha, alpha_err = 2.21, 0.02\n",
    "Ec, Ec_err = 6.0, 0.6\n",
    "\n",
    "# Constants for the second integral\n",
    "f02, f02_err = 3.23e-11, 0.03e-11\n",
    "alpha2, alpha2_err = 2.47, 0.01\n",
    "beta2, beta2_err = -0.24, 0.01"
   ]
  },
  {
   "cell_type": "markdown",
   "id": "adf9ae01-b45e-4983-afe6-57e86b8f0917",
   "metadata": {
    "jp-MarkdownHeadingCollapsed": true
   },
   "source": [
    "## First ingtegral: exponential cut off\n",
    "occhio da qui i flussi in cm^-2 non più m^-2"
   ]
  },
  {
   "cell_type": "markdown",
   "id": "587a21b7-6516-48c8-bc8e-83a8fb95b30b",
   "metadata": {},
   "source": [
    "power law with an exponential cut off:\n",
    "$$\n",
    "\\frac{dJ_{\\gamma}}{dE} = f_0 \\cdot \\left( \\frac{E}{E_0} \\right)^{- \\alpha} e^{-E/E_C} \\, \\text{ph} \\, \\text{cm}^{-2} \\, \\text{s}^{-1} \\, \\text{TeV}^{-1}\n",
    "$$\n",
    "$$\n",
    "f_0 = (3.80 \\pm 0.11) \\times 10^{-11} \\, \\text{TeV}^{-1} \\, \\text{cm}^{-2} \\, \\text{s}^{-1}, \\alpha = 2.21 \\pm 0.02, E_C = (6.0 \\pm 0.6) \\, \\text{TeV}, E_0 = 1 \\, \\text{TeV}\n",
    "$$"
   ]
  },
  {
   "cell_type": "markdown",
   "id": "5bbce436-273a-46ba-a201-adc23f1e06a3",
   "metadata": {
    "jp-MarkdownHeadingCollapsed": true
   },
   "source": [
    "### Simpson's Rule"
   ]
  },
  {
   "cell_type": "code",
   "execution_count": 11,
   "id": "7e90c776-9f70-4900-88e7-36de8ce0af70",
   "metadata": {},
   "outputs": [
    {
     "name": "stdout",
     "output_type": "stream",
     "text": [
      "MAGIC Power law with cutoff using Simpson's Rule\n",
      "t1_Simp_M = 64.68 +- 3.48 minutes\n"
     ]
    }
   ],
   "source": [
    "# error with partial derivatives\n",
    "\n",
    "n = int(10e5)\n",
    "E_values = np.linspace(Emin, Emax, n+1)\n",
    "\n",
    "def dJ_Simp_M(E, f0, alpha, Ec):\n",
    "    return f0 * (E / E0) ** (- alpha) * np.exp(- E / Ec)\n",
    "\n",
    "J_gamma_values = dJ_Simp_M(E_values, f0, alpha, Ec)\n",
    "J_gamma = simpson(J_gamma_values, E_values)\n",
    "\n",
    "R = A * J_gamma\n",
    "\n",
    "def partial_derivatives():\n",
    "    dJ_df0_values = dJ_Simp_M(E_values, f0, alpha, Ec) / f0\n",
    "    dJ_df0 = simpson(dJ_df0_values, E_values)\n",
    "    \n",
    "    dJ_dalpha_values = - dJ_Simp_M(E_values, f0, alpha, Ec) * np.log(E_values / E0)\n",
    "    dJ_dalpha = simpson(dJ_dalpha_values, E_values)\n",
    "    \n",
    "    dJ_dEc_values = -dJ_Simp_M(E_values, f0, alpha, Ec) * (E_values / (Ec**2))\n",
    "    dJ_dEc = simpson(dJ_dEc_values, E_values)\n",
    "\n",
    "    return dJ_df0, dJ_dalpha, dJ_dEc\n",
    "\n",
    "dJ_df0, dJ_dalpha, dJ_dEc = partial_derivatives()\n",
    "\n",
    "sigma_J = np.sqrt(\n",
    "    (dJ_df0 * f0_err) ** 2 +\n",
    "    (dJ_dalpha * alpha_err) ** 2 +\n",
    "    (dJ_dEc * Ec_err) ** 2\n",
    ")\n",
    "\n",
    "sigma_R = (R * sigma_J) / J_gamma\n",
    "\n",
    "t1_Simp_M = (n_gamma / R)/60\n",
    "sigma_t1_Simp_M = t1_Simp_M * (np.sqrt((sigma_n_gamma / n_gamma)**2 + (sigma_R/R)**2))\n",
    "\n",
    "print(\"MAGIC Power law with cutoff using Simpson's Rule\")\n",
    "print(f\"t1_Simp_M = {t1_Simp_M:.2f} +- {sigma_t1_Simp_M:.2f} minutes\")"
   ]
  },
  {
   "cell_type": "markdown",
   "id": "83952804-0d67-4491-9bfa-79a90fe48658",
   "metadata": {
    "jp-MarkdownHeadingCollapsed": true
   },
   "source": [
    "### Simpson's Rule with Monte Carlo error - non lo mettiamo"
   ]
  },
  {
   "cell_type": "code",
   "execution_count": 12,
   "id": "9024507e-5e12-47ff-9ef7-efae47a8691d",
   "metadata": {},
   "outputs": [
    {
     "name": "stdout",
     "output_type": "stream",
     "text": [
      "t2 = 64.84 +- 3.52 minutes\n"
     ]
    }
   ],
   "source": [
    "# Monte Carlo error\n",
    "\n",
    "n = int(10e5)\n",
    "E_values = np.linspace(Emin, Emax, n+1)\n",
    "\n",
    "def dJ_gamma2(E, f0, alpha, Ec):\n",
    "    return f0 * (E / E0) ** (- alpha) * np.exp(- E / Ec)\n",
    "\n",
    "def R(f0, alpha, Ec):\n",
    "    J_gamma_values = dJ_gamma2(E_values, f0, alpha, Ec)\n",
    "    J_gamma = simpson(J_gamma_values, E_values)\n",
    "    return A * J_gamma\n",
    "\n",
    "N = 100\n",
    "f0_mc = np.random.normal(f0, f0_err, N)\n",
    "alpha_mc = np.random.normal(alpha, alpha_err, N)\n",
    "Ec_mc = np.random.normal(Ec, Ec_err, N)\n",
    "\n",
    "R_mc = np.array([R(f0, alpha, Ec) for f0, alpha, Ec in zip(f0_mc, alpha_mc, Ec_mc)])\n",
    "\n",
    "#calcolo valor medio e errore di R\n",
    "R_mean = np.mean(R_mc)\n",
    "R_std = np.std(R_mc)  #std di R (distribuzione), non R_medio, quindi non va np.sqrt(N)\n",
    "\n",
    "#propago su t\n",
    "t2 = (n_gamma / R_mean)/60\n",
    "sigma_t2 = t2 * (np.sqrt((sigma_n_gamma / n_gamma)**2 + (R_std/R_mean)**2))\n",
    "\n",
    "print(f\"t2 = {t2:.2f} +- {sigma_t2:.2f} minutes\")"
   ]
  },
  {
   "cell_type": "markdown",
   "id": "dba8c65f-25b6-45c3-97a2-df0a8e7ae3e2",
   "metadata": {
    "jp-MarkdownHeadingCollapsed": true
   },
   "source": [
    "### Monte Carlo"
   ]
  },
  {
   "cell_type": "code",
   "execution_count": 42,
   "id": "7ef20850-8187-43ac-a0d7-c3e78baf1960",
   "metadata": {
    "scrolled": true
   },
   "outputs": [
    {
     "name": "stdout",
     "output_type": "stream",
     "text": [
      "MAGIC Power law with cutoff using Monte Carlo\n",
      "t1_MC_M = 64.41 ± 0.95 minutes\n"
     ]
    }
   ],
   "source": [
    "# Function definition\n",
    "def dJ1_MC_M(E, f0, alpha, Ec):\n",
    "    return f0 * (E / E0) ** (- alpha) * np.exp(- E / Ec)\n",
    "\n",
    "\n",
    "n = int(10e5)\n",
    "E_values = np.linspace(Emin, Emax, n+1)\n",
    "y_max = np.max(dJ1_MC_M(E_values, f0, alpha, Ec))\n",
    "\n",
    "\n",
    "N = int(10e6)\n",
    "E_samples = np.random.uniform(Emin, Emax, N)\n",
    "y_samples = np.random.uniform(0, y_max, N)\n",
    "f_values = dJ1_MC_M(E_samples, f0, alpha, Ec)\n",
    "\n",
    "\n",
    "count = np.sum(y_samples < f_values)\n",
    "I = (Emax - Emin) * y_max * (count / N)\n",
    "p = count / N\n",
    "sigma_I = I * np.sqrt((1 - p) / (p * N)) \n",
    "\n",
    "t1_MC_M = n_gamma / (A * I) / 60\n",
    "sigma_t1_MC_M = t1_MC_M * np.sqrt((sigma_n_gamma / n_gamma) ** 2 + (sigma_I / I) ** 2)\n",
    "\n",
    "print('MAGIC Power law with cutoff using Monte Carlo')\n",
    "print(f\"t1_MC_M = {t1_MC_M:.2f} ± {sigma_t1_MC_M:.2f} minutes\")"
   ]
  },
  {
   "cell_type": "markdown",
   "id": "f2611c9d-cc0c-482f-ab03-bdb3bb76b73c",
   "metadata": {
    "jp-MarkdownHeadingCollapsed": true
   },
   "source": [
    "## Second integral (Log-parabola)"
   ]
  },
  {
   "cell_type": "markdown",
   "id": "c54380fd-7c11-4583-a4e3-563f8ff47c6c",
   "metadata": {},
   "source": [
    "$$\n",
    "\\frac{dJ_{\\gamma}}{dE} = f_0 \\cdot \\left( \\frac{E}{E_0} \\right)^{- \\alpha + \\beta \\, \\log(E / E_0)} \\, \\text{ph} \\, \\text{cm}^{-2} \\, \\text{s}^{-1} \\, \\text{TeV}^{-1}\n",
    "$$\n",
    "$$\n",
    "f_0 = (3.23 \\pm 0.03) \\times 10^{-11} \\, \\text{TeV}^{-1} \\, \\text{cm}^{-2} \\, \\text{s}^{-1}, \\alpha = 2.47 \\pm 0.01, \\beta = -0.24 \\pm 0.01, E_0 = 1 \\, \\text{TeV}\n",
    "$$"
   ]
  },
  {
   "cell_type": "markdown",
   "id": "67d3703d-a7f6-4539-9575-988d12ed10e0",
   "metadata": {
    "jp-MarkdownHeadingCollapsed": true
   },
   "source": [
    "### Simpson's Rule"
   ]
  },
  {
   "cell_type": "code",
   "execution_count": 14,
   "id": "e817e50e-262d-4e88-9319-332b3f96e179",
   "metadata": {},
   "outputs": [
    {
     "name": "stdout",
     "output_type": "stream",
     "text": [
      "MAGIC with Log-parabola fit using Simpson's Rule\n",
      "t2_Simp_M = 138.19 +- 6.65 minutes\n"
     ]
    }
   ],
   "source": [
    "# error with partial derivatives\n",
    "\n",
    "n = int(10e5)\n",
    "E_values = np.linspace(Emin, Emax, n+1)\n",
    "\n",
    "def dJ_Simp_M(E, f02, alpha2, beta2):\n",
    "    return f02 * (E / E0) ** (- alpha2 + beta2 * np.log(E / E0))\n",
    "\n",
    "J_gamma_values = dJ_Simp_M(E_values, f02, alpha2, beta2)\n",
    "J_gamma = simpson(J_gamma_values, E_values)\n",
    "\n",
    "R = A * J_gamma\n",
    "\n",
    "def partial_derivatives():\n",
    "    dJ_df02_values = dJ_Simp_M(E_values, f02, alpha2, beta2) / f02\n",
    "    dJ_df02 = simpson(dJ_df02_values, E_values)\n",
    "    \n",
    "    dJ_dalpha2_values = - dJ_Simp_M(E_values, f02, alpha2, beta2) * np.log(E_values / E0)\n",
    "    dJ_dalpha2 = simpson(dJ_dalpha2_values, E_values)\n",
    "    \n",
    "    dJ_dbeta2_values = -dJ_Simp_M(E_values, f02, alpha2, beta2) * (np.log(E_values / E0))**2\n",
    "    dJ_dbeta2 = simpson(dJ_dbeta2_values, E_values)\n",
    "\n",
    "    return dJ_df02, dJ_dalpha2, dJ_dbeta2\n",
    "\n",
    "dJ_df02, dJ_dalpha2, dJ_dbeta2 = partial_derivatives()\n",
    "\n",
    "sigma_J = np.sqrt(\n",
    "    (dJ_df02 * f02_err) ** 2 +\n",
    "    (dJ_dalpha2 * alpha2_err) ** 2 +\n",
    "    (dJ_dbeta2 * beta2_err) ** 2\n",
    ")\n",
    "\n",
    "sigma_R = (R * sigma_J) / J_gamma\n",
    "\n",
    "t2_Simp_M = (n_gamma / R)/60\n",
    "sigma_t2_Simp_M = t2_Simp_M * (np.sqrt((sigma_n_gamma / n_gamma)**2 + (sigma_R/R)**2))\n",
    "\n",
    "print(\"MAGIC with Log-parabola fit using Simpson's Rule\")\n",
    "print(f\"t2_Simp_M = {t2_Simp_M:.2f} +- {sigma_t2_Simp_M:.2f} minutes\")"
   ]
  },
  {
   "cell_type": "markdown",
   "id": "ba101bc8-b200-4fdf-bcf5-fd253f0f7788",
   "metadata": {
    "jp-MarkdownHeadingCollapsed": true
   },
   "source": [
    "### Simpson's Rule with Monte Carlo error - non lo mettiamo"
   ]
  },
  {
   "cell_type": "code",
   "execution_count": 15,
   "id": "afbb95bd-6555-430c-a09b-c1250fea462f",
   "metadata": {},
   "outputs": [
    {
     "name": "stdout",
     "output_type": "stream",
     "text": [
      "t2 = 137.83 +- 5.86 minutes\n"
     ]
    }
   ],
   "source": [
    "# Monte Carlo error\n",
    "\n",
    "n = int(10e5)\n",
    "E_values = np.linspace(Emin, Emax, n+1)\n",
    "\n",
    "def dJ_gamma2(E, f02, alpha2, beta2):\n",
    "    return f02 * (E / E0) ** (- alpha2 + beta2 * np.log(E / E0))\n",
    "\n",
    "def R(f02, alpha2, beta2):\n",
    "    J_gamma_values = dJ_gamma2(E_values, f02, alpha2, beta2)\n",
    "    J_gamma = simpson(J_gamma_values, E_values)\n",
    "    return A * J_gamma\n",
    "\n",
    "N = 100\n",
    "f02_mc = np.random.normal(f02, f02_err, N)\n",
    "alpha2_mc = np.random.normal(alpha2, alpha2_err, N)\n",
    "beta2_mc = np.random.normal(beta2, beta2_err, N)\n",
    "\n",
    "R_mc = np.array([R(f02, alpha2, beta2) for f02, alpha2, beta2 in zip(f02_mc, alpha2_mc, beta2_mc)])\n",
    "\n",
    "#calcolo valor medio e errore di R\n",
    "R_mean = np.mean(R_mc)\n",
    "R_std = np.std(R_mc)  #std di R (distribuzione), non R_medio, quindi non va np.sqrt(N)\n",
    "\n",
    "#propago su t\n",
    "t2 = (n_gamma / R_mean)/60\n",
    "sigma_t2 = t2 * (np.sqrt((sigma_n_gamma / n_gamma)**2 + (R_std/R_mean)**2))\n",
    "\n",
    "print(f\"t2 = {t2:.2f} +- {sigma_t2:.2f} minutes\")"
   ]
  },
  {
   "cell_type": "markdown",
   "id": "6ef292cb-4788-4270-8180-a32f01bd7a35",
   "metadata": {
    "jp-MarkdownHeadingCollapsed": true
   },
   "source": [
    "### Monte Carlo"
   ]
  },
  {
   "cell_type": "code",
   "execution_count": 43,
   "id": "6a785f93-0be6-48af-91f5-1d1f066df49e",
   "metadata": {},
   "outputs": [
    {
     "name": "stdout",
     "output_type": "stream",
     "text": [
      "MAGIC with Log-parabola fit\n",
      "t2_MC_M = 138.58 ± 1.71 minutes\n"
     ]
    }
   ],
   "source": [
    "# Function definition\n",
    "def dJ2_MC_M(E, f02, alpha2, beta2):\n",
    "    return f02 * (E / E0) ** (- alpha2 + beta2 * np.log(E / E0))\n",
    "\n",
    "\n",
    "n = int(10e5)\n",
    "E_values = np.linspace(Emin, Emax, n+1)\n",
    "y_max = np.max(dJ2_MC_M(E_values, f02, alpha2, beta2))\n",
    "\n",
    "\n",
    "N = int(10e6)\n",
    "E_samples = np.random.uniform(Emin, Emax, N)\n",
    "y_samples = np.random.uniform(0, y_max, N)\n",
    "f_values = dJ2_MC_M(E_samples, f02, alpha2, beta2)\n",
    "\n",
    "\n",
    "count = np.sum(y_samples < f_values)\n",
    "I = (Emax - Emin) * y_max * (count / N)\n",
    "p = count / N\n",
    "sigma_I = I * np.sqrt((1 - p) / (p * N)) \n",
    "\n",
    "t2_MC_M = n_gamma / (A * I) / 60\n",
    "sigma_t2_MC_M = t2_MC_M * np.sqrt((sigma_n_gamma / n_gamma) ** 2 + (sigma_I / I) ** 2)\n",
    "\n",
    "print('MAGIC with Log-parabola fit')\n",
    "print(f\"t2_MC_M = {t2_MC_M:.2f} ± {sigma_t2_MC_M:.2f} minutes\")"
   ]
  },
  {
   "cell_type": "markdown",
   "id": "2e1326d8-c314-4bbc-a178-8c03a046321b",
   "metadata": {},
   "source": [
    "# Part 9: Plot both spectra and answer if the difference in the observation time that you are obtaining goes in the direction of the difference in the spectra that you are plotting"
   ]
  },
  {
   "cell_type": "markdown",
   "id": "c93060b0-b5db-49a1-a6f9-d576adf65698",
   "metadata": {},
   "source": [
    "Gli errori sullo spettro di energia dato da HEGRA sono più grandi (due ordini di grandezza) di quelli dati da MAGIC a causa degli errori su $ \\alpha $ e $ \\beta $. Infatti nel caso di HEGRA sono dell'ordine di $ 10^{-1} $, nel caso di MAGIC $ 10^{-2} $."
   ]
  },
  {
   "cell_type": "markdown",
   "id": "2cb311f2-0e97-4771-8e5a-d7cbe41cf132",
   "metadata": {},
   "source": [
    "Nel grafico mostriamo i risultati ottenuti con Monte Carlo (che piace tanto al prof e sono i migliori, almeno per il caso di HEGRA)"
   ]
  },
  {
   "cell_type": "markdown",
   "id": "371c97a0-17d5-4217-b692-7efa363da5c5",
   "metadata": {},
   "source": [
    "The MAGIC spectrum is steeper (flux decreases faster with energy), this means that detecting the same number of photons requires more observation time because fewer high-energy photons are detected.\n",
    "If a spectrum is flatter (flux decreases slower), then the same number of photons can be collected in less time.\n",
    "\n",
    "The log-parabola fit of MAGIC might indicate a spectral curvature that HEGRA could not detect due to lower sensitivity.\n",
    "If MAGIC's observation time is longer, this suggests that its spectrum is steeper than HEGRA’s → meaning a different emission process or improved precision in measurement.\n",
    "\n",
    "If the MAGIC spectrum is steeper than HEGRA, MAGIC should need more observation time.\n",
    "If MAGIC shows a flatter or higher flux at high energies, then it should require less observation time than HEGRA.\n",
    "The agreement between these trends tells us if the spectral changes are real (e.g., due to new physics, better sensitivity) or if they are just an effect of observation conditions."
   ]
  },
  {
   "cell_type": "code",
   "execution_count": 119,
   "id": "d3c3b894-27d8-4dd3-902c-8d0f8a15becf",
   "metadata": {},
   "outputs": [
    {
     "data": {
      "image/png": "[encoded data removed]",
      "text/plain": [
       "<Figure size 800x600 with 1 Axes>"
      ]
     },
     "metadata": {},
     "output_type": "display_data"
    }
   ],
   "source": [
    "E = np.linspace(Emin, Emax, 2**20+1)\n",
    "\n",
    "fig, ax = plt.subplots(figsize=(8, 6))\n",
    "\n",
    "ax.plot(E, 1e8 * dJ_H(E, (c1 * 1e-4), alpha1), label='HEGRA: Power Law fit')\n",
    "ax.plot(E, 1e8 * dJ_MC_H(E, (c2 * 1e-4), alpha2, beta), label='HEGRA: log-parabola fit')\n",
    "ax.plot(E, 1e8 * dJ1_MC_M(E, f0, alpha, Ec), label='MAGIC: Power law with cutoff')\n",
    "ax.plot(E, 1e8 * dJ2_MC_M(E, f02, alpha2, beta2), label='MAGIC: log-parabola fit')\n",
    "\n",
    "ax.semilogx()\n",
    "ax.semilogy()\n",
    "ax.set_title('Energy spectrum',fontsize=20, pad =20)\n",
    "ax.set_xlabel('Energy (TeV)',fontsize=14)\n",
    "ax.set_ylabel(r'$\\frac{dN}{dE dA dt} (TeV^{-1} s^{-1} cm^{-2})$',fontsize=14)    #da controllare---------------------------\n",
    "ax.set_xlim([Emin, Emax])\n",
    "ax.legend(loc='best')\n",
    "\n",
    "# inset Axes....\n",
    "x1, x2, y1, y2 = 1e1, 5e1, 5e-11, 1e-5  # subregion of the original image\n",
    "\n",
    "# step4 Plot a zoomed graph\n",
    "axins = ax.inset_axes([1.15, 0.08, 0.50, 0.50])\n",
    "axins.plot(E, 1e8 * dJ_H(E, (c1 * 1e-4), alpha1), label='HEGRA: Power Law fit')\n",
    "axins.plot(E, 1e8 * dJ_MC_H(E, (c2 * 1e-4), alpha2, beta), label='HEGRA: log-parabola fit')\n",
    "axins.plot(E, 1e8 * dJ1_MC_M(E, f0, alpha, Ec), label='MAGIC: Power law with cutoff')\n",
    "axins.plot(E, 1e8 * dJ2_MC_M(E, f02, alpha2, beta2), label='MAGIC: log-parabola fit')\n",
    "\n",
    "axins.set_xlim(x1, x2)\n",
    "axins.set_ylim(y1, y2)\n",
    "axins.semilogx()\n",
    "axins.semilogy()\n",
    "\n",
    "ax.indicate_inset_zoom(axins)\n",
    "ax.grid()\n",
    "#ax.set_box_aspect(0.75)\n",
    "#fig.subplots_adjust(bottom=0.1,top=0.7)\n",
    "\n",
    "plt.show()"
   ]
  }
 ],
 "metadata": {
  "kernelspec": {
   "display_name": "Python 3 (ipykernel)",
   "language": "python",
   "name": "python3"
  },
  "language_info": {
   "codemirror_mode": {
    "name": "ipython",
    "version": 3
   },
   "file_extension": ".py",
   "mimetype": "text/x-python",
   "name": "python",
   "nbconvert_exporter": "python",
   "pygments_lexer": "ipython3",
   "version": "3.13.1"
  }
 },
 "nbformat": 4,
 "nbformat_minor": 5
}
